{
 "cells": [
  {
   "cell_type": "markdown",
   "id": "3e71f9aa",
   "metadata": {},
   "source": [
    "# Lab Activity Week 6\n",
    "\n",
    "**Homework** Anythin you do not complete in lab is your homework. Please provide a link to your github repository as your homework submission."
   ]
  },
  {
   "cell_type": "markdown",
   "id": "751588bb",
   "metadata": {},
   "source": [
    "### Step 1: Aquiring data\n",
    "\n",
    "- Collect data from your weather and air quality sensors together (in the same script) for 5 minutes, taking a reading every second. \n",
    "- Make the name of the file saving the data something that is unique each time data is recorded. \n",
    "   - **HINT:** You can include the time as part of the file name, for example.\n",
    "- Upload your new data to your git repository on GitHub and update the version of your respository on your laptop"
   ]
  },
  {
   "cell_type": "markdown",
   "id": "786af214",
   "metadata": {},
   "source": [
    "### Step 2: Acquiring outdoor data\n",
    "- Restart your raspberry pi system, powering it with the supplied batteries, rather than the power adaptor.\n",
    "- Add a time delay to the start of your data acquisition script (as an optional user input)\n",
    "- Start your data aquisition to again collect data for 5 minutes, taking readings every second, but this time with an initial ~2 minute delay (so it should run for ~7 minutes total).\n",
    "- Take the whole system outdoors and wait there for the 5 minutes of data acquisition to complete.\n",
    "- At your stations, again push your new data to your git repository on GitHub"
   ]
  },
  {
   "cell_type": "markdown",
   "id": "933945f3",
   "metadata": {},
   "source": [
    "### Step 3: Plotting indoor data\n",
    "- Create a new Jupyter notebook and load (using pandas, for example) the data you now have from your device.\n",
    "- Plot each type of data as a frequency distribution (histogram) with appropriate binning - meaning the distribution shows a good level of detail but does not have binning artifacts\n",
    "- Using the mean and standard deviation of each set of data, does any of the data you have recorded look like it is well described by a normal distribution?\n",
    "  - Using the mean and standard deviation, try plotting a Gaussian function along with each of your frequency distributions and see how well they match."
   ]
  },
  {
   "cell_type": "code",
   "execution_count": 63,
   "id": "extra-riverside",
   "metadata": {
    "scrolled": true
   },
   "outputs": [
    {
     "data": {
      "text/html": [
       "<div>\n",
       "<style scoped>\n",
       "    .dataframe tbody tr th:only-of-type {\n",
       "        vertical-align: middle;\n",
       "    }\n",
       "\n",
       "    .dataframe tbody tr th {\n",
       "        vertical-align: top;\n",
       "    }\n",
       "\n",
       "    .dataframe thead th {\n",
       "        text-align: right;\n",
       "    }\n",
       "</style>\n",
       "<table border=\"1\" class=\"dataframe\">\n",
       "  <thead>\n",
       "    <tr style=\"text-align: right;\">\n",
       "      <th></th>\n",
       "      <th>Time</th>\n",
       "      <th>PM10 std</th>\n",
       "      <th>PM25 std</th>\n",
       "      <th>PM 100 std</th>\n",
       "      <th>Temperature</th>\n",
       "      <th>Gas</th>\n",
       "      <th>Pressure</th>\n",
       "      <th>Altitude</th>\n",
       "      <th>Relative Humidity</th>\n",
       "    </tr>\n",
       "  </thead>\n",
       "  <tbody>\n",
       "    <tr>\n",
       "      <th>0</th>\n",
       "      <td>1677106265</td>\n",
       "      <td>1</td>\n",
       "      <td>2</td>\n",
       "      <td>3</td>\n",
       "      <td>22.584883</td>\n",
       "      <td>7410</td>\n",
       "      <td>997.338470</td>\n",
       "      <td>133.324648</td>\n",
       "      <td>22.152560</td>\n",
       "    </tr>\n",
       "    <tr>\n",
       "      <th>1</th>\n",
       "      <td>1677106266</td>\n",
       "      <td>1</td>\n",
       "      <td>2</td>\n",
       "      <td>3</td>\n",
       "      <td>22.646406</td>\n",
       "      <td>9116</td>\n",
       "      <td>997.329947</td>\n",
       "      <td>133.396519</td>\n",
       "      <td>22.135800</td>\n",
       "    </tr>\n",
       "    <tr>\n",
       "      <th>2</th>\n",
       "      <td>1677106267</td>\n",
       "      <td>1</td>\n",
       "      <td>2</td>\n",
       "      <td>3</td>\n",
       "      <td>22.703047</td>\n",
       "      <td>10390</td>\n",
       "      <td>997.330081</td>\n",
       "      <td>133.395388</td>\n",
       "      <td>22.092843</td>\n",
       "    </tr>\n",
       "    <tr>\n",
       "      <th>3</th>\n",
       "      <td>1677106268</td>\n",
       "      <td>1</td>\n",
       "      <td>2</td>\n",
       "      <td>3</td>\n",
       "      <td>22.743672</td>\n",
       "      <td>11346</td>\n",
       "      <td>997.328261</td>\n",
       "      <td>133.410741</td>\n",
       "      <td>22.038517</td>\n",
       "    </tr>\n",
       "    <tr>\n",
       "      <th>4</th>\n",
       "      <td>1677106268</td>\n",
       "      <td>1</td>\n",
       "      <td>2</td>\n",
       "      <td>3</td>\n",
       "      <td>22.788984</td>\n",
       "      <td>12099</td>\n",
       "      <td>997.331082</td>\n",
       "      <td>133.386946</td>\n",
       "      <td>22.005199</td>\n",
       "    </tr>\n",
       "    <tr>\n",
       "      <th>...</th>\n",
       "      <td>...</td>\n",
       "      <td>...</td>\n",
       "      <td>...</td>\n",
       "      <td>...</td>\n",
       "      <td>...</td>\n",
       "      <td>...</td>\n",
       "      <td>...</td>\n",
       "      <td>...</td>\n",
       "      <td>...</td>\n",
       "    </tr>\n",
       "    <tr>\n",
       "      <th>343</th>\n",
       "      <td>1677106562</td>\n",
       "      <td>1</td>\n",
       "      <td>2</td>\n",
       "      <td>3</td>\n",
       "      <td>23.232344</td>\n",
       "      <td>55588</td>\n",
       "      <td>997.377918</td>\n",
       "      <td>132.991984</td>\n",
       "      <td>21.002069</td>\n",
       "    </tr>\n",
       "    <tr>\n",
       "      <th>344</th>\n",
       "      <td>1677106562</td>\n",
       "      <td>1</td>\n",
       "      <td>2</td>\n",
       "      <td>3</td>\n",
       "      <td>23.236641</td>\n",
       "      <td>55551</td>\n",
       "      <td>997.373344</td>\n",
       "      <td>133.030552</td>\n",
       "      <td>20.992062</td>\n",
       "    </tr>\n",
       "    <tr>\n",
       "      <th>345</th>\n",
       "      <td>1677106563</td>\n",
       "      <td>1</td>\n",
       "      <td>2</td>\n",
       "      <td>3</td>\n",
       "      <td>23.226680</td>\n",
       "      <td>55772</td>\n",
       "      <td>997.359630</td>\n",
       "      <td>133.146200</td>\n",
       "      <td>20.981178</td>\n",
       "    </tr>\n",
       "    <tr>\n",
       "      <th>346</th>\n",
       "      <td>1677106564</td>\n",
       "      <td>1</td>\n",
       "      <td>2</td>\n",
       "      <td>3</td>\n",
       "      <td>23.228047</td>\n",
       "      <td>55847</td>\n",
       "      <td>997.360273</td>\n",
       "      <td>133.140783</td>\n",
       "      <td>20.965857</td>\n",
       "    </tr>\n",
       "    <tr>\n",
       "      <th>347</th>\n",
       "      <td>1677106565</td>\n",
       "      <td>1</td>\n",
       "      <td>2</td>\n",
       "      <td>3</td>\n",
       "      <td>23.231953</td>\n",
       "      <td>55847</td>\n",
       "      <td>997.365282</td>\n",
       "      <td>133.098540</td>\n",
       "      <td>20.960963</td>\n",
       "    </tr>\n",
       "  </tbody>\n",
       "</table>\n",
       "<p>348 rows × 9 columns</p>\n",
       "</div>"
      ],
      "text/plain": [
       "           Time  PM10 std  PM25 std  PM 100 std  Temperature    Gas  \\\n",
       "0    1677106265         1         2           3    22.584883   7410   \n",
       "1    1677106266         1         2           3    22.646406   9116   \n",
       "2    1677106267         1         2           3    22.703047  10390   \n",
       "3    1677106268         1         2           3    22.743672  11346   \n",
       "4    1677106268         1         2           3    22.788984  12099   \n",
       "..          ...       ...       ...         ...          ...    ...   \n",
       "343  1677106562         1         2           3    23.232344  55588   \n",
       "344  1677106562         1         2           3    23.236641  55551   \n",
       "345  1677106563         1         2           3    23.226680  55772   \n",
       "346  1677106564         1         2           3    23.228047  55847   \n",
       "347  1677106565         1         2           3    23.231953  55847   \n",
       "\n",
       "       Pressure    Altitude  Relative Humidity  \n",
       "0    997.338470  133.324648          22.152560  \n",
       "1    997.329947  133.396519          22.135800  \n",
       "2    997.330081  133.395388          22.092843  \n",
       "3    997.328261  133.410741          22.038517  \n",
       "4    997.331082  133.386946          22.005199  \n",
       "..          ...         ...                ...  \n",
       "343  997.377918  132.991984          21.002069  \n",
       "344  997.373344  133.030552          20.992062  \n",
       "345  997.359630  133.146200          20.981178  \n",
       "346  997.360273  133.140783          20.965857  \n",
       "347  997.365282  133.098540          20.960963  \n",
       "\n",
       "[348 rows x 9 columns]"
      ]
     },
     "metadata": {},
     "output_type": "display_data"
    }
   ],
   "source": [
    "import matplotlib.pyplot as plt\n",
    "import pandas as pd\n",
    "import numpy as np\n",
    "from numpy import random\n",
    "import math\n",
    "\n",
    "in_data = pd.read_csv('indoor250.csv')\n",
    "display(in_data)\n",
    "\n",
    "a = 'PM10 std'\n",
    "b = 'PM25 std'\n",
    "c = 'PM 100 std'\n",
    "d = 'Temperature'\n",
    "e = 'Gas'\n",
    "f = 'Pressure'\n",
    "g = 'Altitude'\n",
    "h = 'Relative Humidity'\n",
    "\n",
    "ibins = [3,5,5,12,10,10,10,12]\n",
    "\n",
    "def gauss(x, m, s):\n",
    "    return 1/(math.sqrt(2.*math.pi*s**2))*math.e**((-1*(x-m)**2)/(2. * s**2))"
   ]
  },
  {
   "cell_type": "code",
   "execution_count": 4,
   "id": "official-provider",
   "metadata": {
    "scrolled": true
   },
   "outputs": [
    {
     "data": {
      "text/plain": [
       "<function matplotlib.pyplot.show(close=None, block=None)>"
      ]
     },
     "execution_count": 4,
     "metadata": {},
     "output_type": "execute_result"
    },
    {
     "data": {
      "image/png": "[encoded data removed]",
      "text/plain": [
       "<Figure size 432x288 with 1 Axes>"
      ]
     },
     "metadata": {
      "needs_background": "light"
     },
     "output_type": "display_data"
    }
   ],
   "source": [
    "#PM10 std\n",
    "\n",
    "ndata = in_data[a]  ##VAR\n",
    "bns = 3  ##VAR\n",
    "\n",
    "i = 0\n",
    "xd = np.zeros(bns)\n",
    "mx = ndata.max()\n",
    "mn = ndata.min()\n",
    "step = (ndata.max() - ndata.min())/bns\n",
    "\n",
    "for i in range(bns):\n",
    "    cstep = mn + (step * i)\n",
    "    imask = (ndata >= cstep) & (ndata <= (cstep + step))\n",
    "    idata = ndata[imask]\n",
    "    xd[i] = len(idata)\n",
    "\n",
    "mu = np.mean(in_data[a])  ##VAR\n",
    "sig = np.std(in_data[a])  ##VAR\n",
    "xdata = np.linspace(mu-5*sig,mu+5*sig,1000)\n",
    "\n",
    "ln = xd.max()/gauss(xdata, mu, sig).max()\n",
    "\n",
    "plt.title(a)  ##VAR\n",
    "plt.plot(xdata,ln*gauss(xdata, mu, sig))\n",
    "plt.hist(in_data[a],bins=bns)  ##VAR\n",
    "plt.show"
   ]
  },
  {
   "cell_type": "code",
   "execution_count": 5,
   "id": "mounted-bottle",
   "metadata": {},
   "outputs": [
    {
     "data": {
      "text/plain": [
       "<function matplotlib.pyplot.show(close=None, block=None)>"
      ]
     },
     "execution_count": 5,
     "metadata": {},
     "output_type": "execute_result"
    },
    {
     "data": {
      "image/png": "[encoded data removed]",
      "text/plain": [
       "<Figure size 432x288 with 1 Axes>"
      ]
     },
     "metadata": {
      "needs_background": "light"
     },
     "output_type": "display_data"
    }
   ],
   "source": [
    "#PM25 std\n",
    "\n",
    "ndata = in_data[b]  ##VAR\n",
    "bns = 5  ##VAR\n",
    "\n",
    "i = 0\n",
    "xd = np.zeros(bns)\n",
    "mx = ndata.max()\n",
    "mn = ndata.min()\n",
    "step = (ndata.max() - ndata.min())/bns\n",
    "\n",
    "for i in range(bns):\n",
    "    cstep = mn + (step * i)\n",
    "    imask = (ndata >= cstep) & (ndata <= (cstep + step))\n",
    "    idata = ndata[imask]\n",
    "    xd[i] = len(idata)\n",
    "\n",
    "mu = np.mean(in_data[b])  ##VAR\n",
    "sig = np.std(in_data[b])  ##VAR\n",
    "xdata = np.linspace(mu-5*sig,mu+5*sig,1000)\n",
    "\n",
    "ln = xd.max()/gauss(xdata, mu, sig).max()\n",
    "\n",
    "plt.title(b)  ##VAR\n",
    "plt.plot(xdata,ln*gauss(xdata, mu, sig))\n",
    "plt.hist(in_data[b],bins=bns)  ##VAR\n",
    "plt.show"
   ]
  },
  {
   "cell_type": "code",
   "execution_count": 6,
   "id": "occasional-pendant",
   "metadata": {},
   "outputs": [
    {
     "data": {
      "text/plain": [
       "<function matplotlib.pyplot.show(close=None, block=None)>"
      ]
     },
     "execution_count": 6,
     "metadata": {},
     "output_type": "execute_result"
    },
    {
     "data": {
      "image/png": "[encoded data removed]",
      "text/plain": [
       "<Figure size 432x288 with 1 Axes>"
      ]
     },
     "metadata": {
      "needs_background": "light"
     },
     "output_type": "display_data"
    }
   ],
   "source": [
    "#PM100 std\n",
    "\n",
    "ndata = in_data[c]  ##VAR\n",
    "bns = 5  ##VAR\n",
    "\n",
    "i = 0\n",
    "xd = np.zeros(bns)\n",
    "mx = ndata.max()\n",
    "mn = ndata.min()\n",
    "step = (ndata.max() - ndata.min())/bns\n",
    "\n",
    "for i in range(bns):\n",
    "    cstep = mn + (step * i)\n",
    "    imask = (ndata >= cstep) & (ndata <= (cstep + step))\n",
    "    idata = ndata[imask]\n",
    "    xd[i] = len(idata)\n",
    "\n",
    "mu = np.mean(in_data[c])  ##VAR\n",
    "sig = np.std(in_data[c])  ##VAR\n",
    "xdata = np.linspace(mu-5*sig,mu+5*sig,1000)\n",
    "\n",
    "ln = xd.max()/gauss(xdata, mu, sig).max()\n",
    "\n",
    "plt.title(c)  ##VAR\n",
    "plt.plot(xdata,ln*gauss(xdata, mu, sig))\n",
    "plt.hist(in_data[c],bins=bns)  ##VAR\n",
    "plt.show"
   ]
  },
  {
   "cell_type": "code",
   "execution_count": 7,
   "id": "coordinate-civilian",
   "metadata": {
    "scrolled": true
   },
   "outputs": [
    {
     "data": {
      "text/plain": [
       "<function matplotlib.pyplot.show(close=None, block=None)>"
      ]
     },
     "execution_count": 7,
     "metadata": {},
     "output_type": "execute_result"
    },
    {
     "data": {
      "image/png": "[encoded data removed]",
      "text/plain": [
       "<Figure size 432x288 with 1 Axes>"
      ]
     },
     "metadata": {
      "needs_background": "light"
     },
     "output_type": "display_data"
    }
   ],
   "source": [
    "#Temperature\n",
    "\n",
    "ndata = in_data[d]  ##VAR\n",
    "bns = 12  ##VAR\n",
    "\n",
    "i = 0\n",
    "xd = np.zeros(bns)\n",
    "mx = ndata.max()\n",
    "mn = ndata.min()\n",
    "step = (ndata.max() - ndata.min())/bns\n",
    "\n",
    "for i in range(bns):\n",
    "    cstep = mn + (step * i)\n",
    "    imask = (ndata >= cstep) & (ndata <= (cstep + step))\n",
    "    idata = ndata[imask]\n",
    "    xd[i] = len(idata)\n",
    "\n",
    "mu = np.mean(in_data[d])  ##VAR\n",
    "sig = np.std(in_data[d])  ##VAR\n",
    "xdata = np.linspace(mu-5*sig,mu+5*sig,1000)\n",
    "\n",
    "ln = xd.max()/gauss(xdata, mu, sig).max()\n",
    "\n",
    "plt.title(d)  ##VAR\n",
    "plt.plot(xdata,ln*gauss(xdata, mu, sig))\n",
    "plt.hist(in_data[d],bins=bns)  ##VAR\n",
    "plt.show"
   ]
  },
  {
   "cell_type": "code",
   "execution_count": 8,
   "id": "adverse-pressure",
   "metadata": {},
   "outputs": [
    {
     "data": {
      "text/plain": [
       "<function matplotlib.pyplot.show(close=None, block=None)>"
      ]
     },
     "execution_count": 8,
     "metadata": {},
     "output_type": "execute_result"
    },
    {
     "data": {
      "image/png": "[encoded data removed]",
      "text/plain": [
       "<Figure size 432x288 with 1 Axes>"
      ]
     },
     "metadata": {
      "needs_background": "light"
     },
     "output_type": "display_data"
    }
   ],
   "source": [
    "#Gas\n",
    "\n",
    "ndata = in_data[e]  ##VAR\n",
    "bns = 10  ##VAR\n",
    "\n",
    "i = 0\n",
    "xd = np.zeros(bns)\n",
    "mx = ndata.max()\n",
    "mn = ndata.min()\n",
    "step = (ndata.max() - ndata.min())/bns\n",
    "\n",
    "for i in range(bns):\n",
    "    cstep = mn + (step * i)\n",
    "    imask = (ndata >= cstep) & (ndata <= (cstep + step))\n",
    "    idata = ndata[imask]\n",
    "    xd[i] = len(idata)\n",
    "\n",
    "mu = np.mean(in_data[e])  ##VAR\n",
    "sig = np.std(in_data[e])  ##VAR\n",
    "xdata = np.linspace(mu-5*sig,mu+5*sig,1000)\n",
    "\n",
    "ln = xd.max()/gauss(xdata, mu, sig).max()\n",
    "\n",
    "plt.title(e)  ##VAR\n",
    "plt.plot(xdata,ln*gauss(xdata, mu, sig))\n",
    "plt.hist(in_data[e],bins=bns)  ##VAR\n",
    "plt.show"
   ]
  },
  {
   "cell_type": "code",
   "execution_count": 9,
   "id": "essential-render",
   "metadata": {},
   "outputs": [
    {
     "data": {
      "text/plain": [
       "<function matplotlib.pyplot.show(close=None, block=None)>"
      ]
     },
     "execution_count": 9,
     "metadata": {},
     "output_type": "execute_result"
    },
    {
     "data": {
      "image/png": "[encoded data removed]",
      "text/plain": [
       "<Figure size 432x288 with 1 Axes>"
      ]
     },
     "metadata": {
      "needs_background": "light"
     },
     "output_type": "display_data"
    }
   ],
   "source": [
    "#Pressure\n",
    "\n",
    "ndata = in_data[f]  ##VAR\n",
    "bns = 10  ##VAR\n",
    "\n",
    "i = 0\n",
    "xd = np.zeros(bns)\n",
    "mx = ndata.max()\n",
    "mn = ndata.min()\n",
    "step = (ndata.max() - ndata.min())/bns\n",
    "\n",
    "for i in range(bns):\n",
    "    cstep = mn + (step * i)\n",
    "    imask = (ndata >= cstep) & (ndata <= (cstep + step))\n",
    "    idata = ndata[imask]\n",
    "    xd[i] = len(idata)\n",
    "\n",
    "mu = np.mean(in_data[f])  ##VAR\n",
    "sig = np.std(in_data[f])  ##VAR\n",
    "xdata = np.linspace(mu-5*sig,mu+5*sig,1000)\n",
    "\n",
    "ln = xd.max()/gauss(xdata, mu, sig).max()\n",
    "\n",
    "plt.title(f)  ##VAR\n",
    "plt.plot(xdata,ln*gauss(xdata, mu, sig))\n",
    "plt.hist(in_data[f],bins=bns)  ##VAR\n",
    "plt.show"
   ]
  },
  {
   "cell_type": "code",
   "execution_count": 10,
   "id": "later-olympus",
   "metadata": {},
   "outputs": [
    {
     "data": {
      "text/plain": [
       "<function matplotlib.pyplot.show(close=None, block=None)>"
      ]
     },
     "execution_count": 10,
     "metadata": {},
     "output_type": "execute_result"
    },
    {
     "data": {
      "image/png": "[encoded data removed]",
      "text/plain": [
       "<Figure size 432x288 with 1 Axes>"
      ]
     },
     "metadata": {
      "needs_background": "light"
     },
     "output_type": "display_data"
    }
   ],
   "source": [
    "#Altitude\n",
    "\n",
    "ndata = in_data[g]  ##VAR\n",
    "bns = 10  ##VAR\n",
    "\n",
    "i = 0\n",
    "xd = np.zeros(bns)\n",
    "mx = ndata.max()\n",
    "mn = ndata.min()\n",
    "step = (ndata.max() - ndata.min())/bns\n",
    "\n",
    "for i in range(bns):\n",
    "    cstep = mn + (step * i)\n",
    "    imask = (ndata >= cstep) & (ndata <= (cstep + step))\n",
    "    idata = ndata[imask]\n",
    "    xd[i] = len(idata)\n",
    "\n",
    "mu = np.mean(in_data[g])  ##VAR\n",
    "sig = np.std(in_data[g])  ##VAR\n",
    "xdata = np.linspace(mu-5*sig,mu+5*sig,1000)\n",
    "\n",
    "ln = xd.max()/gauss(xdata, mu, sig).max()\n",
    "\n",
    "plt.title(g)  ##VAR\n",
    "plt.plot(xdata,ln*gauss(xdata, mu, sig))\n",
    "plt.hist(in_data[g],bins=bns)  ##VAR\n",
    "plt.show"
   ]
  },
  {
   "cell_type": "code",
   "execution_count": 11,
   "id": "conscious-visit",
   "metadata": {},
   "outputs": [
    {
     "data": {
      "text/plain": [
       "<function matplotlib.pyplot.show(close=None, block=None)>"
      ]
     },
     "execution_count": 11,
     "metadata": {},
     "output_type": "execute_result"
    },
    {
     "data": {
      "image/png": "[encoded data removed]",
      "text/plain": [
       "<Figure size 432x288 with 1 Axes>"
      ]
     },
     "metadata": {
      "needs_background": "light"
     },
     "output_type": "display_data"
    }
   ],
   "source": [
    "#Relative Humidity\n",
    "\n",
    "ndata = in_data[h]  ##VAR\n",
    "bns = 12  ##VAR\n",
    "\n",
    "i = 0\n",
    "xd = np.zeros(bns)\n",
    "mx = ndata.max()\n",
    "mn = ndata.min()\n",
    "step = (ndata.max() - ndata.min())/bns\n",
    "\n",
    "for i in range(bns):\n",
    "    cstep = mn + (step * i)\n",
    "    imask = (ndata >= cstep) & (ndata <= (cstep + step))\n",
    "    idata = ndata[imask]\n",
    "    xd[i] = len(idata)\n",
    "\n",
    "mu = np.mean(in_data[h])  ##VAR\n",
    "sig = np.std(in_data[h])  ##VAR\n",
    "xdata = np.linspace(mu-5*sig,mu+5*sig,1000)\n",
    "\n",
    "ln = xd.max()/gauss(xdata, mu, sig).max()\n",
    "\n",
    "plt.title(h)  ##VAR\n",
    "plt.plot(xdata,ln*gauss(xdata, mu, sig))\n",
    "plt.hist(in_data[h],bins=bns)  ##VAR\n",
    "plt.show"
   ]
  },
  {
   "cell_type": "markdown",
   "id": "48ec41b9",
   "metadata": {},
   "source": [
    "### Step 4: Comparing Indoor vs Outdoor data\n",
    "- Produce the same plots as in Step 2 for your new outdoor data\n",
    "- Now produce plots that compare indoors vs outdoors for each of your data types - don't forget labels\n",
    "- Comment on your results\n",
    "- Compare the mean and standard deviation values for each set of indoor data versus outdoor data, are they in agreement?\n",
    "  - NOTE: The variance in your data is not the uncertainty on the mean (central limit theorem)\n",
    "  - what is your mean uncertainty?\n",
    "  - How many inside mean standard deviations (1 sigma uncertainty) are your inside and outside measurements separated by?\n",
    "- If your distributions were not well described by a Gaussian, do you think you took enough data for the central limit theorem to apply?"
   ]
  },
  {
   "cell_type": "code",
   "execution_count": 12,
   "id": "dimensional-rapid",
   "metadata": {
    "scrolled": true
   },
   "outputs": [
    {
     "data": {
      "text/html": [
       "<div>\n",
       "<style scoped>\n",
       "    .dataframe tbody tr th:only-of-type {\n",
       "        vertical-align: middle;\n",
       "    }\n",
       "\n",
       "    .dataframe tbody tr th {\n",
       "        vertical-align: top;\n",
       "    }\n",
       "\n",
       "    .dataframe thead th {\n",
       "        text-align: right;\n",
       "    }\n",
       "</style>\n",
       "<table border=\"1\" class=\"dataframe\">\n",
       "  <thead>\n",
       "    <tr style=\"text-align: right;\">\n",
       "      <th></th>\n",
       "      <th>Time</th>\n",
       "      <th>PM10 std</th>\n",
       "      <th>PM25 std</th>\n",
       "      <th>PM 100 std</th>\n",
       "      <th>Temperature</th>\n",
       "      <th>Gas</th>\n",
       "      <th>Pressure</th>\n",
       "      <th>Altitude</th>\n",
       "      <th>Relative Humidity</th>\n",
       "    </tr>\n",
       "  </thead>\n",
       "  <tbody>\n",
       "    <tr>\n",
       "      <th>0</th>\n",
       "      <td>1677107493</td>\n",
       "      <td>1</td>\n",
       "      <td>3</td>\n",
       "      <td>4</td>\n",
       "      <td>16.375508</td>\n",
       "      <td>138832</td>\n",
       "      <td>996.743927</td>\n",
       "      <td>138.339680</td>\n",
       "      <td>27.336550</td>\n",
       "    </tr>\n",
       "    <tr>\n",
       "      <th>1</th>\n",
       "      <td>1677107493</td>\n",
       "      <td>1</td>\n",
       "      <td>3</td>\n",
       "      <td>4</td>\n",
       "      <td>16.375508</td>\n",
       "      <td>138832</td>\n",
       "      <td>996.743927</td>\n",
       "      <td>138.339680</td>\n",
       "      <td>27.336550</td>\n",
       "    </tr>\n",
       "    <tr>\n",
       "      <th>2</th>\n",
       "      <td>1677107493</td>\n",
       "      <td>1</td>\n",
       "      <td>2</td>\n",
       "      <td>3</td>\n",
       "      <td>16.375508</td>\n",
       "      <td>138832</td>\n",
       "      <td>996.743927</td>\n",
       "      <td>138.339680</td>\n",
       "      <td>27.336550</td>\n",
       "    </tr>\n",
       "    <tr>\n",
       "      <th>3</th>\n",
       "      <td>1677107493</td>\n",
       "      <td>1</td>\n",
       "      <td>2</td>\n",
       "      <td>3</td>\n",
       "      <td>16.375508</td>\n",
       "      <td>138832</td>\n",
       "      <td>996.743927</td>\n",
       "      <td>138.339680</td>\n",
       "      <td>27.336550</td>\n",
       "    </tr>\n",
       "    <tr>\n",
       "      <th>4</th>\n",
       "      <td>1677107493</td>\n",
       "      <td>2</td>\n",
       "      <td>3</td>\n",
       "      <td>4</td>\n",
       "      <td>16.375508</td>\n",
       "      <td>138832</td>\n",
       "      <td>996.743927</td>\n",
       "      <td>138.339680</td>\n",
       "      <td>27.336550</td>\n",
       "    </tr>\n",
       "    <tr>\n",
       "      <th>...</th>\n",
       "      <td>...</td>\n",
       "      <td>...</td>\n",
       "      <td>...</td>\n",
       "      <td>...</td>\n",
       "      <td>...</td>\n",
       "      <td>...</td>\n",
       "      <td>...</td>\n",
       "      <td>...</td>\n",
       "      <td>...</td>\n",
       "    </tr>\n",
       "    <tr>\n",
       "      <th>516</th>\n",
       "      <td>1677107789</td>\n",
       "      <td>0</td>\n",
       "      <td>1</td>\n",
       "      <td>1</td>\n",
       "      <td>12.400508</td>\n",
       "      <td>77963</td>\n",
       "      <td>996.815218</td>\n",
       "      <td>137.738208</td>\n",
       "      <td>32.117167</td>\n",
       "    </tr>\n",
       "    <tr>\n",
       "      <th>517</th>\n",
       "      <td>1677107790</td>\n",
       "      <td>0</td>\n",
       "      <td>1</td>\n",
       "      <td>1</td>\n",
       "      <td>12.370234</td>\n",
       "      <td>77675</td>\n",
       "      <td>996.843282</td>\n",
       "      <td>137.501443</td>\n",
       "      <td>32.153170</td>\n",
       "    </tr>\n",
       "    <tr>\n",
       "      <th>518</th>\n",
       "      <td>1677107791</td>\n",
       "      <td>0</td>\n",
       "      <td>1</td>\n",
       "      <td>1</td>\n",
       "      <td>12.332734</td>\n",
       "      <td>77746</td>\n",
       "      <td>996.868866</td>\n",
       "      <td>137.285605</td>\n",
       "      <td>32.128214</td>\n",
       "    </tr>\n",
       "    <tr>\n",
       "      <th>519</th>\n",
       "      <td>1677107792</td>\n",
       "      <td>0</td>\n",
       "      <td>1</td>\n",
       "      <td>1</td>\n",
       "      <td>12.301680</td>\n",
       "      <td>77890</td>\n",
       "      <td>996.892198</td>\n",
       "      <td>137.088767</td>\n",
       "      <td>32.164155</td>\n",
       "    </tr>\n",
       "    <tr>\n",
       "      <th>520</th>\n",
       "      <td>1677107793</td>\n",
       "      <td>0</td>\n",
       "      <td>1</td>\n",
       "      <td>1</td>\n",
       "      <td>12.280977</td>\n",
       "      <td>78035</td>\n",
       "      <td>996.898230</td>\n",
       "      <td>137.037882</td>\n",
       "      <td>32.162499</td>\n",
       "    </tr>\n",
       "  </tbody>\n",
       "</table>\n",
       "<p>521 rows × 9 columns</p>\n",
       "</div>"
      ],
      "text/plain": [
       "           Time  PM10 std  PM25 std  PM 100 std  Temperature     Gas  \\\n",
       "0    1677107493         1         3           4    16.375508  138832   \n",
       "1    1677107493         1         3           4    16.375508  138832   \n",
       "2    1677107493         1         2           3    16.375508  138832   \n",
       "3    1677107493         1         2           3    16.375508  138832   \n",
       "4    1677107493         2         3           4    16.375508  138832   \n",
       "..          ...       ...       ...         ...          ...     ...   \n",
       "516  1677107789         0         1           1    12.400508   77963   \n",
       "517  1677107790         0         1           1    12.370234   77675   \n",
       "518  1677107791         0         1           1    12.332734   77746   \n",
       "519  1677107792         0         1           1    12.301680   77890   \n",
       "520  1677107793         0         1           1    12.280977   78035   \n",
       "\n",
       "       Pressure    Altitude  Relative Humidity  \n",
       "0    996.743927  138.339680          27.336550  \n",
       "1    996.743927  138.339680          27.336550  \n",
       "2    996.743927  138.339680          27.336550  \n",
       "3    996.743927  138.339680          27.336550  \n",
       "4    996.743927  138.339680          27.336550  \n",
       "..          ...         ...                ...  \n",
       "516  996.815218  137.738208          32.117167  \n",
       "517  996.843282  137.501443          32.153170  \n",
       "518  996.868866  137.285605          32.128214  \n",
       "519  996.892198  137.088767          32.164155  \n",
       "520  996.898230  137.037882          32.162499  \n",
       "\n",
       "[521 rows x 9 columns]"
      ]
     },
     "metadata": {},
     "output_type": "display_data"
    }
   ],
   "source": [
    "## STEP 4\n",
    "\n",
    "ou_data = pd.read_csv('outdoor310.csv')\n",
    "display(ou_data)\n",
    "\n",
    "obins = [3,4,5,5,4,10,10,6]"
   ]
  },
  {
   "cell_type": "code",
   "execution_count": 13,
   "id": "universal-agriculture",
   "metadata": {},
   "outputs": [
    {
     "data": {
      "text/plain": [
       "<function matplotlib.pyplot.show(close=None, block=None)>"
      ]
     },
     "execution_count": 13,
     "metadata": {},
     "output_type": "execute_result"
    },
    {
     "data": {
      "image/png": "[encoded data removed]",
      "text/plain": [
       "<Figure size 432x288 with 1 Axes>"
      ]
     },
     "metadata": {
      "needs_background": "light"
     },
     "output_type": "display_data"
    }
   ],
   "source": [
    "#PM10 (outside vs inside)\n",
    "\n",
    "ndata = ou_data[a]  ##VAR\n",
    "bns = 3  ##VAR\n",
    "\n",
    "i = 0\n",
    "xd = np.zeros(bns)\n",
    "mx = ndata.max()\n",
    "mn = ndata.min()\n",
    "step = (ndata.max() - ndata.min())/bns\n",
    "\n",
    "for i in range(bns):\n",
    "    cstep = mn + (step * i)\n",
    "    imask = (ndata >= cstep) & (ndata <= (cstep + step))\n",
    "    idata = ndata[imask]\n",
    "    xd[i] = len(idata)\n",
    "\n",
    "mu = np.mean(ou_data[a])  ##VAR\n",
    "sig = np.std(ou_data[a])  ##VAR\n",
    "xdata = np.linspace(mu-5*sig,mu+5*sig,1000)\n",
    "\n",
    "ln = xd.max()/gauss(xdata, mu, sig).max()\n",
    "\n",
    "plt.title(a)  ##VAR\n",
    "plt.plot(xdata,ln*gauss(xdata, mu, sig))\n",
    "plt.hist(ou_data[a],bins=bns,label='outside')  ##VAR\n",
    "plt.hist(in_data[a],bins=ibins[0],color=\"green\",label='inside',alpha=0.5)\n",
    "plt.legend()\n",
    "plt.show"
   ]
  },
  {
   "cell_type": "code",
   "execution_count": 14,
   "id": "confidential-staff",
   "metadata": {},
   "outputs": [
    {
     "data": {
      "text/plain": [
       "<function matplotlib.pyplot.show(close=None, block=None)>"
      ]
     },
     "execution_count": 14,
     "metadata": {},
     "output_type": "execute_result"
    },
    {
     "data": {
      "image/png": "[encoded data removed]",
      "text/plain": [
       "<Figure size 432x288 with 1 Axes>"
      ]
     },
     "metadata": {
      "needs_background": "light"
     },
     "output_type": "display_data"
    }
   ],
   "source": [
    "#PM25 (outside vs inside)\n",
    "\n",
    "ndata = ou_data[b]  ##VAR\n",
    "bns = 4  ##VAR\n",
    "\n",
    "i = 0\n",
    "xd = np.zeros(bns)\n",
    "mx = ndata.max()\n",
    "mn = ndata.min()\n",
    "step = (ndata.max() - ndata.min())/bns\n",
    "\n",
    "for i in range(bns):\n",
    "    cstep = mn + (step * i)\n",
    "    imask = (ndata >= cstep) & (ndata <= (cstep + step))\n",
    "    idata = ndata[imask]\n",
    "    xd[i] = len(idata)\n",
    "\n",
    "mu = np.mean(ou_data[b])  ##VAR\n",
    "sig = np.std(ou_data[b])  ##VAR\n",
    "xdata = np.linspace(mu-5*sig,mu+5*sig,1000)\n",
    "\n",
    "ln = xd.max()/gauss(xdata, mu, sig).max()\n",
    "\n",
    "plt.title(b)  ##VAR\n",
    "plt.plot(xdata,ln*gauss(xdata, mu, sig))\n",
    "plt.hist(ou_data[b],bins=bns,label='outside')  ##VAR\n",
    "plt.hist(in_data[b],bins=ibins[1],color=\"green\",label='inside',alpha=0.5)\n",
    "plt.legend()\n",
    "plt.show"
   ]
  },
  {
   "cell_type": "code",
   "execution_count": 15,
   "id": "diagnostic-nickname",
   "metadata": {},
   "outputs": [
    {
     "data": {
      "text/plain": [
       "<function matplotlib.pyplot.show(close=None, block=None)>"
      ]
     },
     "execution_count": 15,
     "metadata": {},
     "output_type": "execute_result"
    },
    {
     "data": {
      "image/png": "[encoded data removed]",
      "text/plain": [
       "<Figure size 432x288 with 1 Axes>"
      ]
     },
     "metadata": {
      "needs_background": "light"
     },
     "output_type": "display_data"
    }
   ],
   "source": [
    "#PM100 (outside)\n",
    "\n",
    "ndata = ou_data[c]  ##VAR\n",
    "bns = 5  ##VAR\n",
    "\n",
    "i = 0\n",
    "xd = np.zeros(bns)\n",
    "mx = ndata.max()\n",
    "mn = ndata.min()\n",
    "step = (ndata.max() - ndata.min())/bns\n",
    "\n",
    "for i in range(bns):\n",
    "    cstep = mn + (step * i)\n",
    "    imask = (ndata >= cstep) & (ndata <= (cstep + step))\n",
    "    idata = ndata[imask]\n",
    "    xd[i] = len(idata)\n",
    "\n",
    "mu = np.mean(ou_data[c])  ##VAR\n",
    "sig = np.std(ou_data[c])  ##VAR\n",
    "xdata = np.linspace(mu-5*sig,mu+5*sig,1000)\n",
    "\n",
    "ln = xd.max()/gauss(xdata, mu, sig).max()\n",
    "\n",
    "plt.title(c)  ##VAR\n",
    "plt.plot(xdata,ln*gauss(xdata, mu, sig))\n",
    "plt.hist(ou_data[c],bins=bns,label='outside')  ##VAR\n",
    "plt.hist(in_data[c],bins=ibins[2],color=\"green\",label='inside',alpha=0.5)\n",
    "plt.legend()\n",
    "plt.show"
   ]
  },
  {
   "cell_type": "code",
   "execution_count": 16,
   "id": "satellite-factor",
   "metadata": {},
   "outputs": [
    {
     "data": {
      "text/plain": [
       "<function matplotlib.pyplot.show(close=None, block=None)>"
      ]
     },
     "execution_count": 16,
     "metadata": {},
     "output_type": "execute_result"
    },
    {
     "data": {
      "image/png": "[encoded data removed]",
      "text/plain": [
       "<Figure size 432x288 with 1 Axes>"
      ]
     },
     "metadata": {
      "needs_background": "light"
     },
     "output_type": "display_data"
    }
   ],
   "source": [
    "#Temperature (outside)\n",
    "\n",
    "ndata = ou_data[d]  ##VAR\n",
    "bns = 5  ##VAR\n",
    "\n",
    "i = 0\n",
    "xd = np.zeros(bns)\n",
    "mx = ndata.max()\n",
    "mn = ndata.min()\n",
    "step = (ndata.max() - ndata.min())/bns\n",
    "\n",
    "for i in range(bns):\n",
    "    cstep = mn + (step * i)\n",
    "    imask = (ndata >= cstep) & (ndata <= (cstep + step))\n",
    "    idata = ndata[imask]\n",
    "    xd[i] = len(idata)\n",
    "\n",
    "mu = np.mean(ou_data[d])  ##VAR\n",
    "sig = np.std(ou_data[d])  ##VAR\n",
    "xdata = np.linspace(mu-5*sig,mu+5*sig,1000)\n",
    "\n",
    "ln = xd.max()/gauss(xdata, mu, sig).max()\n",
    "\n",
    "plt.title(d)  ##VAR\n",
    "plt.plot(xdata,ln*gauss(xdata, mu, sig))\n",
    "plt.hist(ou_data[d],bins=bns,label='outside')  ##VAR\n",
    "plt.hist(in_data[d],bins=6,color=\"green\",label='inside',alpha=0.75)\n",
    "plt.legend()\n",
    "plt.show"
   ]
  },
  {
   "cell_type": "code",
   "execution_count": 17,
   "id": "metropolitan-frequency",
   "metadata": {},
   "outputs": [
    {
     "data": {
      "text/plain": [
       "<function matplotlib.pyplot.show(close=None, block=None)>"
      ]
     },
     "execution_count": 17,
     "metadata": {},
     "output_type": "execute_result"
    },
    {
     "data": {
      "image/png": "[encoded data removed]",
      "text/plain": [
       "<Figure size 432x288 with 1 Axes>"
      ]
     },
     "metadata": {
      "needs_background": "light"
     },
     "output_type": "display_data"
    }
   ],
   "source": [
    "#Gas (outside)\n",
    "\n",
    "\n",
    "ndata = ou_data[e]  ##VAR\n",
    "bns = 4  ##VAR\n",
    "\n",
    "i = 0\n",
    "xd = np.zeros(bns)\n",
    "mx = ndata.max()\n",
    "mn = ndata.min()\n",
    "step = (ndata.max() - ndata.min())/bns\n",
    "\n",
    "for i in range(bns):\n",
    "    cstep = mn + (step * i)\n",
    "    imask = (ndata >= cstep) & (ndata <= (cstep + step))\n",
    "    idata = ndata[imask]\n",
    "    xd[i] = len(idata)\n",
    "\n",
    "mu = np.mean(ou_data[e])  ##VAR\n",
    "sig = np.std(ou_data[e])  ##VAR\n",
    "xdata = np.linspace(mu-5*sig,mu+5*sig,1000)\n",
    "\n",
    "ln = xd.max()/gauss(xdata, mu, sig).max()\n",
    "\n",
    "plt.title(e)  ##VAR\n",
    "plt.plot(xdata,ln*gauss(xdata, mu, sig))\n",
    "plt.hist(ou_data[e],bins=bns,label='outside')  ##VAR\n",
    "plt.hist(in_data[e],bins=6,color=\"green\",label='inside',alpha=0.75)\n",
    "plt.legend()\n",
    "plt.show"
   ]
  },
  {
   "cell_type": "code",
   "execution_count": 18,
   "id": "expanded-ordering",
   "metadata": {},
   "outputs": [
    {
     "data": {
      "text/plain": [
       "<function matplotlib.pyplot.show(close=None, block=None)>"
      ]
     },
     "execution_count": 18,
     "metadata": {},
     "output_type": "execute_result"
    },
    {
     "data": {
      "image/png": "[encoded data removed]",
      "text/plain": [
       "<Figure size 432x288 with 1 Axes>"
      ]
     },
     "metadata": {
      "needs_background": "light"
     },
     "output_type": "display_data"
    }
   ],
   "source": [
    "#Pressure (outside)\n",
    "\n",
    "\n",
    "ndata = ou_data[f]  ##VAR\n",
    "bns = 10  ##VAR\n",
    "\n",
    "i = 0\n",
    "xd = np.zeros(bns)\n",
    "mx = ndata.max()\n",
    "mn = ndata.min()\n",
    "step = (ndata.max() - ndata.min())/bns\n",
    "\n",
    "for i in range(bns):\n",
    "    cstep = mn + (step * i)\n",
    "    imask = (ndata >= cstep) & (ndata <= (cstep + step))\n",
    "    idata = ndata[imask]\n",
    "    xd[i] = len(idata)\n",
    "\n",
    "mu = np.mean(ou_data[f])  ##VAR\n",
    "sig = np.std(ou_data[f])  ##VAR\n",
    "xdata = np.linspace(mu-5*sig,mu+5*sig,1000)\n",
    "\n",
    "ln = xd.max()/gauss(xdata, mu, sig).max()\n",
    "\n",
    "plt.title(f)  ##VAR\n",
    "plt.plot(xdata,ln*gauss(xdata, mu, sig))\n",
    "plt.hist(ou_data[f],bins=bns,label='outside')  ##VAR\n",
    "plt.hist(in_data[f],bins=5,color=\"green\",label='inside',alpha=0.75)\n",
    "plt.legend()\n",
    "plt.show"
   ]
  },
  {
   "cell_type": "code",
   "execution_count": 19,
   "id": "sustained-copyright",
   "metadata": {},
   "outputs": [
    {
     "data": {
      "text/plain": [
       "<function matplotlib.pyplot.show(close=None, block=None)>"
      ]
     },
     "execution_count": 19,
     "metadata": {},
     "output_type": "execute_result"
    },
    {
     "data": {
      "image/png": "[encoded data removed]",
      "text/plain": [
       "<Figure size 432x288 with 1 Axes>"
      ]
     },
     "metadata": {
      "needs_background": "light"
     },
     "output_type": "display_data"
    }
   ],
   "source": [
    "#Altitude (outside)\n",
    "\n",
    "\n",
    "ndata = ou_data[g]  ##VAR\n",
    "bns = 10  ##VAR\n",
    "\n",
    "i = 0\n",
    "xd = np.zeros(bns)\n",
    "mx = ndata.max()\n",
    "mn = ndata.min()\n",
    "step = (ndata.max() - ndata.min())/bns\n",
    "\n",
    "for i in range(bns):\n",
    "    cstep = mn + (step * i)\n",
    "    imask = (ndata >= cstep) & (ndata <= (cstep + step))\n",
    "    idata = ndata[imask]\n",
    "    xd[i] = len(idata)\n",
    "\n",
    "mu = np.mean(ou_data[g])  ##VAR\n",
    "sig = np.std(ou_data[g])  ##VAR\n",
    "xdata = np.linspace(mu-5*sig,mu+5*sig,1000)\n",
    "\n",
    "ln = xd.max()/gauss(xdata, mu, sig).max()\n",
    "\n",
    "plt.title(g)  ##VAR\n",
    "plt.plot(xdata,ln*gauss(xdata, mu, sig))\n",
    "plt.hist(ou_data[g],bins=bns,label='outside')  ##VAR\n",
    "plt.hist(in_data[g],bins=5,color=\"green\",label='inside',alpha=0.75)\n",
    "plt.legend()\n",
    "plt.show"
   ]
  },
  {
   "cell_type": "code",
   "execution_count": 20,
   "id": "atomic-implementation",
   "metadata": {},
   "outputs": [
    {
     "data": {
      "text/plain": [
       "<function matplotlib.pyplot.show(close=None, block=None)>"
      ]
     },
     "execution_count": 20,
     "metadata": {},
     "output_type": "execute_result"
    },
    {
     "data": {
      "image/png": "[encoded data removed]",
      "text/plain": [
       "<Figure size 432x288 with 1 Axes>"
      ]
     },
     "metadata": {
      "needs_background": "light"
     },
     "output_type": "display_data"
    }
   ],
   "source": [
    "#Relative Humidity (outside)\n",
    "\n",
    "\n",
    "ndata = ou_data[h]  ##VAR\n",
    "bns = 6  ##VAR\n",
    "\n",
    "i = 0\n",
    "xd = np.zeros(bns)\n",
    "mx = ndata.max()\n",
    "mn = ndata.min()\n",
    "step = (ndata.max() - ndata.min())/bns\n",
    "\n",
    "for i in range(bns):\n",
    "    cstep = mn + (step * i)\n",
    "    imask = (ndata >= cstep) & (ndata <= (cstep + step))\n",
    "    idata = ndata[imask]\n",
    "    xd[i] = len(idata)\n",
    "\n",
    "mu = np.mean(ou_data[h])  ##VAR\n",
    "sig = np.std(ou_data[h])  ##VAR\n",
    "xdata = np.linspace(mu-5*sig,mu+5*sig,1000)\n",
    "\n",
    "ln = xd.max()/gauss(xdata, mu, sig).max()\n",
    "\n",
    "plt.title(h)  ##VAR\n",
    "plt.plot(xdata,ln*gauss(xdata, mu, sig))\n",
    "plt.hist(ou_data[h],bins=bns,label='outside')  ##VAR\n",
    "plt.hist(in_data[h],bins=5,color=\"green\",label='inside',alpha=0.75)\n",
    "plt.legend()\n",
    "plt.show"
   ]
  },
  {
   "cell_type": "code",
   "execution_count": 87,
   "id": "convinced-billy",
   "metadata": {
    "scrolled": true
   },
   "outputs": [
    {
     "data": {
      "text/html": [
       "<div>\n",
       "<style scoped>\n",
       "    .dataframe tbody tr th:only-of-type {\n",
       "        vertical-align: middle;\n",
       "    }\n",
       "\n",
       "    .dataframe tbody tr th {\n",
       "        vertical-align: top;\n",
       "    }\n",
       "\n",
       "    .dataframe thead th {\n",
       "        text-align: right;\n",
       "    }\n",
       "</style>\n",
       "<table border=\"1\" class=\"dataframe\">\n",
       "  <thead>\n",
       "    <tr style=\"text-align: right;\">\n",
       "      <th></th>\n",
       "      <th>Sensor:</th>\n",
       "      <th>IN mean</th>\n",
       "      <th>OUT mean</th>\n",
       "      <th>IN std</th>\n",
       "      <th>OUT std</th>\n",
       "      <th>Diff in Inside and Outside</th>\n",
       "      <th>Inside Std between Outside and Inside</th>\n",
       "    </tr>\n",
       "  </thead>\n",
       "  <tbody>\n",
       "    <tr>\n",
       "      <th>0</th>\n",
       "      <td>PM10</td>\n",
       "      <td>0.971264</td>\n",
       "      <td>0.414587</td>\n",
       "      <td>0.484568</td>\n",
       "      <td>0.504203</td>\n",
       "      <td>0.556677</td>\n",
       "      <td>1.148810</td>\n",
       "    </tr>\n",
       "    <tr>\n",
       "      <th>1</th>\n",
       "      <td>PM25</td>\n",
       "      <td>2.068966</td>\n",
       "      <td>1.222649</td>\n",
       "      <td>0.806484</td>\n",
       "      <td>0.800879</td>\n",
       "      <td>0.846317</td>\n",
       "      <td>1.049391</td>\n",
       "    </tr>\n",
       "    <tr>\n",
       "      <th>2</th>\n",
       "      <td>PM100</td>\n",
       "      <td>2.103448</td>\n",
       "      <td>1.589251</td>\n",
       "      <td>0.823986</td>\n",
       "      <td>0.981694</td>\n",
       "      <td>0.514197</td>\n",
       "      <td>0.624036</td>\n",
       "    </tr>\n",
       "    <tr>\n",
       "      <th>3</th>\n",
       "      <td>Temperature</td>\n",
       "      <td>23.216500</td>\n",
       "      <td>14.925133</td>\n",
       "      <td>0.117833</td>\n",
       "      <td>1.438426</td>\n",
       "      <td>8.291367</td>\n",
       "      <td>70.365425</td>\n",
       "    </tr>\n",
       "    <tr>\n",
       "      <th>4</th>\n",
       "      <td>Gas</td>\n",
       "      <td>40087.747126</td>\n",
       "      <td>88725.808061</td>\n",
       "      <td>11735.452125</td>\n",
       "      <td>36955.897158</td>\n",
       "      <td>48638.060935</td>\n",
       "      <td>4.144541</td>\n",
       "    </tr>\n",
       "    <tr>\n",
       "      <th>5</th>\n",
       "      <td>Pressure</td>\n",
       "      <td>997.356080</td>\n",
       "      <td>996.788693</td>\n",
       "      <td>0.040221</td>\n",
       "      <td>0.066667</td>\n",
       "      <td>0.567387</td>\n",
       "      <td>14.106598</td>\n",
       "    </tr>\n",
       "    <tr>\n",
       "      <th>6</th>\n",
       "      <td>Altitude</td>\n",
       "      <td>133.176143</td>\n",
       "      <td>137.962004</td>\n",
       "      <td>0.339182</td>\n",
       "      <td>0.562446</td>\n",
       "      <td>4.785861</td>\n",
       "      <td>14.110013</td>\n",
       "    </tr>\n",
       "    <tr>\n",
       "      <th>7</th>\n",
       "      <td>Rel. Humidty</td>\n",
       "      <td>21.149127</td>\n",
       "      <td>28.867888</td>\n",
       "      <td>0.282405</td>\n",
       "      <td>2.039351</td>\n",
       "      <td>7.718762</td>\n",
       "      <td>27.332239</td>\n",
       "    </tr>\n",
       "  </tbody>\n",
       "</table>\n",
       "</div>"
      ],
      "text/plain": [
       "        Sensor:       IN mean      OUT mean        IN std       OUT std  \\\n",
       "0          PM10      0.971264      0.414587      0.484568      0.504203   \n",
       "1          PM25      2.068966      1.222649      0.806484      0.800879   \n",
       "2         PM100      2.103448      1.589251      0.823986      0.981694   \n",
       "3   Temperature     23.216500     14.925133      0.117833      1.438426   \n",
       "4           Gas  40087.747126  88725.808061  11735.452125  36955.897158   \n",
       "5      Pressure    997.356080    996.788693      0.040221      0.066667   \n",
       "6      Altitude    133.176143    137.962004      0.339182      0.562446   \n",
       "7  Rel. Humidty     21.149127     28.867888      0.282405      2.039351   \n",
       "\n",
       "   Diff in Inside and Outside  Inside Std between Outside and Inside  \n",
       "0                    0.556677                               1.148810  \n",
       "1                    0.846317                               1.049391  \n",
       "2                    0.514197                               0.624036  \n",
       "3                    8.291367                              70.365425  \n",
       "4                48638.060935                               4.144541  \n",
       "5                    0.567387                              14.106598  \n",
       "6                    4.785861                              14.110013  \n",
       "7                    7.718762                              27.332239  "
      ]
     },
     "metadata": {},
     "output_type": "display_data"
    }
   ],
   "source": [
    "##RESULTS OF COMPARISON##\n",
    "\n",
    "# A number of sensor data sets mirrored eachother quite well. The air quality sensors (PM10, PM25, & PM100) all took the form of\n",
    "# relatively neat gaussian distributions, and while the intensities and counts of the inside and outside data did differ, as\n",
    "# expected, it's easy to see their very similar shape. Altitude and pressure both also show decen gaussian-like distribution,\n",
    "# though they both have considerably higher than typical counts around their means. They also mirror eachothers shape perfectly,\n",
    "# and are likely two sets of data from the same sensor.\n",
    "# The sensor data sets that were most problematic were Temperature, Gas, and Relative Humidity. With the 'inside' data sets did\n",
    "# not show gaussian distribution at all and indicated more of an approach to maximum/equilibrium. Their 'outside' data sets were\n",
    "# incredibly unpredictable and messy, likely due to the high winds.\n",
    "\n",
    "##BELOW is a comparison of the mean and std for the 'inside' and 'outside' data sets for each sensor\n",
    "\n",
    "inmean = [np.mean(in_data[a]),np.mean(in_data[b]),np.mean(in_data[c]),np.mean(in_data[d]),np.mean(in_data[e]),np.mean(in_data[f]),np.mean(in_data[g]),np.mean(in_data[h])]\n",
    "instd = [np.std(in_data[a]),np.std(in_data[b]),np.std(in_data[c]),np.std(in_data[d]),np.std(in_data[e]),np.std(in_data[f]),np.std(in_data[g]),np.std(in_data[h])]\n",
    "oumean = [np.mean(ou_data[a]),np.mean(ou_data[b]),np.mean(ou_data[c]),np.mean(ou_data[d]),np.mean(ou_data[e]),np.mean(ou_data[f]),np.mean(ou_data[g]),np.mean(ou_data[h])]\n",
    "oustd = [np.std(ou_data[a]),np.std(ou_data[b]),np.std(ou_data[c]),np.std(ou_data[d]),np.std(ou_data[e]),np.std(ou_data[f]),np.std(ou_data[g]),np.std(ou_data[h])]\n",
    "diffinnout = abs(np.subtract(inmean,oumean))\n",
    "insidemeandiff= np.divide(diffinnout,instd)\n",
    "\n",
    "comparison = {'Sensor:':['PM10','PM25','PM100','Temperature','Gas','Pressure','Altitude','Rel. Humidty'],\n",
    "             'IN mean':[inmean[0],inmean[1],inmean[2],inmean[3],inmean[4],inmean[5],inmean[6],inmean[7]],\n",
    "             'OUT mean':[oumean[0],oumean[1],oumean[2],oumean[3],oumean[4],oumean[5],oumean[6],oumean[7]],\n",
    "             'IN std':[instd[0],instd[1],instd[2],instd[3],instd[4],instd[5],instd[6],instd[7]],\n",
    "             'OUT std':[oustd[0],oustd[1],oustd[2],oustd[3],oustd[4],oustd[5],oustd[6],oustd[7]],\n",
    "             'Diff in Inside and Outside':diffinnout,\n",
    "             'Inside Std between Outside and Inside': insidemeandiff}\n",
    "\n",
    "comp = pd.DataFrame(comparison)\n",
    "display(comp)"
   ]
  },
  {
   "cell_type": "code",
   "execution_count": null,
   "id": "3dfbc1a9",
   "metadata": {},
   "outputs": [],
   "source": []
  },
  {
   "cell_type": "code",
   "execution_count": null,
   "id": "dd6328f5",
   "metadata": {},
   "outputs": [],
   "source": [
    "## QUESTIONS LEFT\n",
    "\n",
    "# Compare the mean and standard deviation values for each set of indoor data versus outdoor data, are they in agreement?\n",
    "# NOTE: The variance in your data is not the uncertainty on the mean (central limit theorem)\n",
    "# what is your mean uncertainty?\n",
    "# How many inside mean standard deviations (1 sigma uncertainty) are your inside and outside measurements separated by?\n",
    "# If your distributions were not well described by a Gaussian, do you think you took enough data for the central limit theorem to apply?"
   ]
  },
  {
   "cell_type": "markdown",
   "id": "64b4fa74",
   "metadata": {},
   "source": [
    "### Step 5: Comparing sensors\n",
    "- Get data from another group in your lab and compare your inside data with their inside data, including all of elements from Step 4. Do the same comparing your outside data with their outside data.\n",
    "- How do the sensors compare? What do you think this indicates about the accuracy and precision of your sensors?"
   ]
  },
  {
   "cell_type": "code",
   "execution_count": 56,
   "id": "102820d4",
   "metadata": {},
   "outputs": [
    {
     "data": {
      "text/html": [
       "<div>\n",
       "<style scoped>\n",
       "    .dataframe tbody tr th:only-of-type {\n",
       "        vertical-align: middle;\n",
       "    }\n",
       "\n",
       "    .dataframe tbody tr th {\n",
       "        vertical-align: top;\n",
       "    }\n",
       "\n",
       "    .dataframe thead th {\n",
       "        text-align: right;\n",
       "    }\n",
       "</style>\n",
       "<table border=\"1\" class=\"dataframe\">\n",
       "  <thead>\n",
       "    <tr style=\"text-align: right;\">\n",
       "      <th></th>\n",
       "      <th>time</th>\n",
       "      <th>Concentration Units (Standard) PM 1.0</th>\n",
       "      <th>Concentration Units (Standard) PM 2.5</th>\n",
       "      <th>Concentration Units (Standard) PM 10.0</th>\n",
       "      <th>temperature</th>\n",
       "      <th>gas</th>\n",
       "      <th>pressure</th>\n",
       "      <th>humidity</th>\n",
       "      <th>altitude</th>\n",
       "      <th>Unnamed: 9</th>\n",
       "    </tr>\n",
       "  </thead>\n",
       "  <tbody>\n",
       "    <tr>\n",
       "      <th>0</th>\n",
       "      <td>1676677883</td>\n",
       "      <td>0</td>\n",
       "      <td>2</td>\n",
       "      <td>2</td>\n",
       "      <td>22.190742</td>\n",
       "      <td>40266</td>\n",
       "      <td>1006.418695</td>\n",
       "      <td>16.964390</td>\n",
       "      <td>57.031162</td>\n",
       "      <td>NaN</td>\n",
       "    </tr>\n",
       "    <tr>\n",
       "      <th>1</th>\n",
       "      <td>1676677885</td>\n",
       "      <td>0</td>\n",
       "      <td>2</td>\n",
       "      <td>2</td>\n",
       "      <td>22.209102</td>\n",
       "      <td>8369</td>\n",
       "      <td>1006.418684</td>\n",
       "      <td>16.945647</td>\n",
       "      <td>57.031248</td>\n",
       "      <td>NaN</td>\n",
       "    </tr>\n",
       "    <tr>\n",
       "      <th>2</th>\n",
       "      <td>1676677886</td>\n",
       "      <td>0</td>\n",
       "      <td>2</td>\n",
       "      <td>2</td>\n",
       "      <td>22.248750</td>\n",
       "      <td>12720</td>\n",
       "      <td>1006.425273</td>\n",
       "      <td>16.927980</td>\n",
       "      <td>56.976090</td>\n",
       "      <td>NaN</td>\n",
       "    </tr>\n",
       "    <tr>\n",
       "      <th>3</th>\n",
       "      <td>1676677887</td>\n",
       "      <td>1</td>\n",
       "      <td>2</td>\n",
       "      <td>2</td>\n",
       "      <td>22.287617</td>\n",
       "      <td>15648</td>\n",
       "      <td>1006.435674</td>\n",
       "      <td>16.870944</td>\n",
       "      <td>56.889022</td>\n",
       "      <td>NaN</td>\n",
       "    </tr>\n",
       "    <tr>\n",
       "      <th>4</th>\n",
       "      <td>1676677888</td>\n",
       "      <td>1</td>\n",
       "      <td>2</td>\n",
       "      <td>2</td>\n",
       "      <td>22.322383</td>\n",
       "      <td>17699</td>\n",
       "      <td>1006.444328</td>\n",
       "      <td>16.813722</td>\n",
       "      <td>56.816573</td>\n",
       "      <td>NaN</td>\n",
       "    </tr>\n",
       "    <tr>\n",
       "      <th>...</th>\n",
       "      <td>...</td>\n",
       "      <td>...</td>\n",
       "      <td>...</td>\n",
       "      <td>...</td>\n",
       "      <td>...</td>\n",
       "      <td>...</td>\n",
       "      <td>...</td>\n",
       "      <td>...</td>\n",
       "      <td>...</td>\n",
       "      <td>...</td>\n",
       "    </tr>\n",
       "    <tr>\n",
       "      <th>295</th>\n",
       "      <td>1676678235</td>\n",
       "      <td>0</td>\n",
       "      <td>0</td>\n",
       "      <td>0</td>\n",
       "      <td>22.772188</td>\n",
       "      <td>65364</td>\n",
       "      <td>1006.448528</td>\n",
       "      <td>15.900696</td>\n",
       "      <td>56.781415</td>\n",
       "      <td>NaN</td>\n",
       "    </tr>\n",
       "    <tr>\n",
       "      <th>296</th>\n",
       "      <td>1676678236</td>\n",
       "      <td>1</td>\n",
       "      <td>1</td>\n",
       "      <td>1</td>\n",
       "      <td>22.772969</td>\n",
       "      <td>65415</td>\n",
       "      <td>1006.444706</td>\n",
       "      <td>15.910491</td>\n",
       "      <td>56.813414</td>\n",
       "      <td>NaN</td>\n",
       "    </tr>\n",
       "    <tr>\n",
       "      <th>297</th>\n",
       "      <td>1676678237</td>\n",
       "      <td>0</td>\n",
       "      <td>1</td>\n",
       "      <td>1</td>\n",
       "      <td>22.771992</td>\n",
       "      <td>65262</td>\n",
       "      <td>1006.448202</td>\n",
       "      <td>15.900687</td>\n",
       "      <td>56.784151</td>\n",
       "      <td>NaN</td>\n",
       "    </tr>\n",
       "    <tr>\n",
       "      <th>298</th>\n",
       "      <td>1676678239</td>\n",
       "      <td>0</td>\n",
       "      <td>1</td>\n",
       "      <td>1</td>\n",
       "      <td>22.772188</td>\n",
       "      <td>65313</td>\n",
       "      <td>1006.450238</td>\n",
       "      <td>15.900696</td>\n",
       "      <td>56.767100</td>\n",
       "      <td>NaN</td>\n",
       "    </tr>\n",
       "    <tr>\n",
       "      <th>299</th>\n",
       "      <td>1676678240</td>\n",
       "      <td>0</td>\n",
       "      <td>1</td>\n",
       "      <td>1</td>\n",
       "      <td>22.772188</td>\n",
       "      <td>65313</td>\n",
       "      <td>1006.441689</td>\n",
       "      <td>15.915332</td>\n",
       "      <td>56.838673</td>\n",
       "      <td>NaN</td>\n",
       "    </tr>\n",
       "  </tbody>\n",
       "</table>\n",
       "<p>300 rows × 10 columns</p>\n",
       "</div>"
      ],
      "text/plain": [
       "           time  Concentration Units (Standard) PM 1.0  \\\n",
       "0    1676677883                                      0   \n",
       "1    1676677885                                      0   \n",
       "2    1676677886                                      0   \n",
       "3    1676677887                                      1   \n",
       "4    1676677888                                      1   \n",
       "..          ...                                    ...   \n",
       "295  1676678235                                      0   \n",
       "296  1676678236                                      1   \n",
       "297  1676678237                                      0   \n",
       "298  1676678239                                      0   \n",
       "299  1676678240                                      0   \n",
       "\n",
       "     Concentration Units (Standard) PM 2.5  \\\n",
       "0                                        2   \n",
       "1                                        2   \n",
       "2                                        2   \n",
       "3                                        2   \n",
       "4                                        2   \n",
       "..                                     ...   \n",
       "295                                      0   \n",
       "296                                      1   \n",
       "297                                      1   \n",
       "298                                      1   \n",
       "299                                      1   \n",
       "\n",
       "     Concentration Units (Standard) PM 10.0  temperature    gas     pressure  \\\n",
       "0                                         2    22.190742  40266  1006.418695   \n",
       "1                                         2    22.209102   8369  1006.418684   \n",
       "2                                         2    22.248750  12720  1006.425273   \n",
       "3                                         2    22.287617  15648  1006.435674   \n",
       "4                                         2    22.322383  17699  1006.444328   \n",
       "..                                      ...          ...    ...          ...   \n",
       "295                                       0    22.772188  65364  1006.448528   \n",
       "296                                       1    22.772969  65415  1006.444706   \n",
       "297                                       1    22.771992  65262  1006.448202   \n",
       "298                                       1    22.772188  65313  1006.450238   \n",
       "299                                       1    22.772188  65313  1006.441689   \n",
       "\n",
       "      humidity   altitude  Unnamed: 9  \n",
       "0    16.964390  57.031162         NaN  \n",
       "1    16.945647  57.031248         NaN  \n",
       "2    16.927980  56.976090         NaN  \n",
       "3    16.870944  56.889022         NaN  \n",
       "4    16.813722  56.816573         NaN  \n",
       "..         ...        ...         ...  \n",
       "295  15.900696  56.781415         NaN  \n",
       "296  15.910491  56.813414         NaN  \n",
       "297  15.900687  56.784151         NaN  \n",
       "298  15.900696  56.767100         NaN  \n",
       "299  15.915332  56.838673         NaN  \n",
       "\n",
       "[300 rows x 10 columns]"
      ]
     },
     "metadata": {},
     "output_type": "display_data"
    }
   ],
   "source": [
    "in_dataG = pd.read_csv('feb172023insidedata.csv')\n",
    "display(in_dataG)\n",
    "\n",
    "q = 'Concentration Units (Standard) PM 1.0'\n",
    "j = 'Concentration Units (Standard) PM 2.5'\n",
    "k = 'Concentration Units (Standard) PM 10.0'\n",
    "l = 'temperature'\n",
    "m = 'gas'\n",
    "n = 'pressure'\n",
    "o = 'humidity'\n",
    "p = 'altitude'\n",
    "\n",
    "ibins = [3,5,5,12,10,10,10,12]\n",
    "\n",
    "def gauss(x, m, s):\n",
    "    return 1/(math.sqrt(2.*math.pi*s**2))*math.e**((-1*(x-m)**2)/(2. * s**2))"
   ]
  },
  {
   "cell_type": "code",
   "execution_count": 66,
   "id": "f3716bf9",
   "metadata": {},
   "outputs": [
    {
     "name": "stdout",
     "output_type": "stream",
     "text": [
      "0      0\n",
      "1      0\n",
      "2      0\n",
      "3      1\n",
      "4      1\n",
      "      ..\n",
      "295    0\n",
      "296    1\n",
      "297    0\n",
      "298    0\n",
      "299    0\n",
      "Name: Concentration Units (Standard) PM 1.0, Length: 300, dtype: int64\n"
     ]
    },
    {
     "data": {
      "text/plain": [
       "<function matplotlib.pyplot.show(close=None, block=None)>"
      ]
     },
     "execution_count": 66,
     "metadata": {},
     "output_type": "execute_result"
    },
    {
     "data": {
      "image/png": "[encoded data removed]",
      "text/plain": [
       "<Figure size 432x288 with 1 Axes>"
      ]
     },
     "metadata": {
      "needs_background": "light"
     },
     "output_type": "display_data"
    }
   ],
   "source": [
    "#PM10 std\n",
    "\n",
    "ndata = in_dataG[q] ##VAR\n",
    "bns = 3  ##VAR\n",
    "\n",
    "print(ndata)\n",
    "\n",
    "i = 0\n",
    "xd = np.zeros(bns)\n",
    "mx = ndata.max()\n",
    "mn = ndata.min()\n",
    "step = (ndata.max() - ndata.min())/bns\n",
    "\n",
    "for i in range(bns):\n",
    "    cstep = mn + (step * i)\n",
    "    imask = (ndata >= cstep) & (ndata <= (cstep + step))\n",
    "    idata = ndata[imask]\n",
    "    xd[i] = len(idata)\n",
    "\n",
    "mu = np.mean(in_dataG[q])  ##VAR\n",
    "sig = np.std(in_dataG[q])  ##VAR\n",
    "xdata = np.linspace(mu-5*sig,mu+5*sig,1000)\n",
    "\n",
    "ln = xd.max()/gauss(xdata, mu, sig).max()\n",
    "\n",
    "plt.title(q)  ##VAR\n",
    "plt.plot(xdata,ln*gauss(xdata, mu, sig))\n",
    "plt.hist(in_dataG[q],bins=bns)  ##VAR\n",
    "plt.show"
   ]
  },
  {
   "cell_type": "code",
   "execution_count": 67,
   "id": "6194d572",
   "metadata": {},
   "outputs": [
    {
     "data": {
      "text/plain": [
       "<function matplotlib.pyplot.show(close=None, block=None)>"
      ]
     },
     "execution_count": 67,
     "metadata": {},
     "output_type": "execute_result"
    },
    {
     "data": {
      "image/png": "[encoded data removed]",
      "text/plain": [
       "<Figure size 432x288 with 1 Axes>"
      ]
     },
     "metadata": {
      "needs_background": "light"
     },
     "output_type": "display_data"
    }
   ],
   "source": [
    "#PM25 std\n",
    "\n",
    "ndata = in_dataG[j]  ##VAR\n",
    "bns = 5  ##VAR\n",
    "\n",
    "i = 0\n",
    "xd = np.zeros(bns)\n",
    "mx = ndata.max()\n",
    "mn = ndata.min()\n",
    "step = (ndata.max() - ndata.min())/bns\n",
    "\n",
    "for i in range(bns):\n",
    "    cstep = mn + (step * i)\n",
    "    imask = (ndata >= cstep) & (ndata <= (cstep + step))\n",
    "    idata = ndata[imask]\n",
    "    xd[i] = len(idata)\n",
    "\n",
    "mu = np.mean(in_dataG[j])  ##VAR\n",
    "sig = np.std(in_dataG[j])  ##VAR\n",
    "xdata = np.linspace(mu-5*sig,mu+5*sig,1000)\n",
    "\n",
    "ln = xd.max()/gauss(xdata, mu, sig).max()\n",
    "\n",
    "plt.title(b)  ##VAR\n",
    "plt.plot(xdata,ln*gauss(xdata, mu, sig))\n",
    "plt.hist(in_dataG[j],bins=bns)  ##VAR\n",
    "plt.show"
   ]
  },
  {
   "cell_type": "code",
   "execution_count": 68,
   "id": "fd0de101",
   "metadata": {},
   "outputs": [
    {
     "data": {
      "text/plain": [
       "<function matplotlib.pyplot.show(close=None, block=None)>"
      ]
     },
     "execution_count": 68,
     "metadata": {},
     "output_type": "execute_result"
    },
    {
     "data": {
      "image/png": "[encoded data removed]",
      "text/plain": [
       "<Figure size 432x288 with 1 Axes>"
      ]
     },
     "metadata": {
      "needs_background": "light"
     },
     "output_type": "display_data"
    }
   ],
   "source": [
    "#PM100 std\n",
    "\n",
    "ndata = in_dataG[k]  ##VAR\n",
    "bns = 5  ##VAR\n",
    "\n",
    "i = 0\n",
    "xd = np.zeros(bns)\n",
    "mx = ndata.max()\n",
    "mn = ndata.min()\n",
    "step = (ndata.max() - ndata.min())/bns\n",
    "\n",
    "for i in range(bns):\n",
    "    cstep = mn + (step * i)\n",
    "    imask = (ndata >= cstep) & (ndata <= (cstep + step))\n",
    "    idata = ndata[imask]\n",
    "    xd[i] = len(idata)\n",
    "\n",
    "mu = np.mean(in_dataG[k])  ##VAR\n",
    "sig = np.std(in_dataG[k])  ##VAR\n",
    "xdata = np.linspace(mu-5*sig,mu+5*sig,1000)\n",
    "\n",
    "ln = xd.max()/gauss(xdata, mu, sig).max()\n",
    "\n",
    "plt.title(k)  ##VAR\n",
    "plt.plot(xdata,ln*gauss(xdata, mu, sig))\n",
    "plt.hist(in_dataG[k],bins=bns)  ##VAR\n",
    "plt.show"
   ]
  },
  {
   "cell_type": "code",
   "execution_count": 70,
   "id": "b0cfa3d0",
   "metadata": {},
   "outputs": [
    {
     "data": {
      "text/plain": [
       "<function matplotlib.pyplot.show(close=None, block=None)>"
      ]
     },
     "execution_count": 70,
     "metadata": {},
     "output_type": "execute_result"
    },
    {
     "data": {
      "image/png": "[encoded data removed]",
      "text/plain": [
       "<Figure size 432x288 with 1 Axes>"
      ]
     },
     "metadata": {
      "needs_background": "light"
     },
     "output_type": "display_data"
    }
   ],
   "source": [
    "#PM10 (our inside vs other group inside)\n",
    "\n",
    "ndata = in_dataG[q]  ##VAR\n",
    "bns = 3  ##VAR\n",
    "\n",
    "i = 0\n",
    "xd = np.zeros(bns)\n",
    "mx = ndata.max()\n",
    "mn = ndata.min()\n",
    "step = (ndata.max() - ndata.min())/bns\n",
    "\n",
    "for i in range(bns):\n",
    "    cstep = mn + (step * i)\n",
    "    imask = (ndata >= cstep) & (ndata <= (cstep + step))\n",
    "    idata = ndata[imask]\n",
    "    xd[i] = len(idata)\n",
    "\n",
    "mu = np.mean(in_dataG[q])  ##VAR\n",
    "sig = np.std(in_dataG[q])  ##VAR\n",
    "xdata = np.linspace(mu-5*sig,mu+5*sig,1000)\n",
    "\n",
    "ln = xd.max()/gauss(xdata, mu, sig).max()\n",
    "\n",
    "plt.title(a)  ##VAR\n",
    "plt.plot(xdata,ln*gauss(xdata, mu, sig))\n",
    "plt.hist(in_dataG[q],bins=bns,label='other group data')  ##VAR\n",
    "plt.hist(in_data[a],bins=ibins[0],color=\"green\",label='our inside data',alpha=0.5)\n",
    "plt.legend()\n",
    "plt.show"
   ]
  },
  {
   "cell_type": "markdown",
   "id": "4a9a58a1",
   "metadata": {},
   "source": [
    "### Extra: Correlations in data\n",
    "- Plot temperature vs humidity\n",
    "  - NOTE: These were taken by the same sensor at the same time, so each measurement matches up in time, meaning plotting one versus the other works. \n",
    "  - What is the hidden variable that is important when making plots like this?\n",
    "- What does this plot show? Are temperature and humidity correlated? How might you quantify this?\n",
    "\n",
    "- Plot temperature vs another property measured by that sensor, are they correlated? Is the correlation qualitatively similar to what you see from temperature vs humidity?\n",
    "  - try this for all data types (temp. vs pressure, temp. vs voc, etc.)\n",
    "  \n",
    "- Plot temperature vs PM2.5 concentration and discuss as with the previous comparisons."
   ]
  }
 ],
 "metadata": {
  "kernelspec": {
   "display_name": "Python 3",
   "language": "python",
   "name": "python3"
  },
  "language_info": {
   "codemirror_mode": {
    "name": "ipython",
    "version": 3
   },
   "file_extension": ".py",
   "mimetype": "text/x-python",
   "name": "python",
   "nbconvert_exporter": "python",
   "pygments_lexer": "ipython3",
   "version": "3.8.8"
  }
 },
 "nbformat": 4,
 "nbformat_minor": 5
}
