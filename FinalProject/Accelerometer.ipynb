{
 "cells": [
  {
   "cell_type": "code",
   "execution_count": 1,
   "id": "59a75115",
   "metadata": {},
   "outputs": [
    {
     "ename": "ModuleNotFoundError",
     "evalue": "No module named 'board'",
     "output_type": "error",
     "traceback": [
      "\u001b[0;31m---------------------------------------------------------------------------\u001b[0m",
      "\u001b[0;31mModuleNotFoundError\u001b[0m                       Traceback (most recent call last)",
      "\u001b[0;32m<ipython-input-1-518652cab58a>\u001b[0m in \u001b[0;36m<module>\u001b[0;34m\u001b[0m\n\u001b[1;32m      1\u001b[0m \u001b[0;32mimport\u001b[0m \u001b[0mtime\u001b[0m\u001b[0;34m\u001b[0m\u001b[0;34m\u001b[0m\u001b[0m\n\u001b[0;32m----> 2\u001b[0;31m \u001b[0;32mimport\u001b[0m \u001b[0mboard\u001b[0m\u001b[0;34m\u001b[0m\u001b[0;34m\u001b[0m\u001b[0m\n\u001b[0m\u001b[1;32m      3\u001b[0m \u001b[0;32mimport\u001b[0m \u001b[0mbusio\u001b[0m\u001b[0;34m\u001b[0m\u001b[0;34m\u001b[0m\u001b[0m\n\u001b[1;32m      4\u001b[0m \u001b[0;32mimport\u001b[0m \u001b[0madafruit_adxl34x\u001b[0m\u001b[0;34m\u001b[0m\u001b[0;34m\u001b[0m\u001b[0m\n\u001b[1;32m      5\u001b[0m \u001b[0;34m\u001b[0m\u001b[0m\n",
      "\u001b[0;31mModuleNotFoundError\u001b[0m: No module named 'board'"
     ]
    }
   ],
   "source": [
    "import time\n",
    "import board\n",
    "import busio\n",
    "import adafruit_adxl34x\n",
    "import time\n",
    "import argparse\n",
    "\n",
    "i2c = busio.I2C(board.SCL, board.SDA)\n",
    "accelerometer = adafruit_adxl34x.ADXL345(i2c)\n",
    "\n",
    "import csv\n",
    "meta_data = [\"X\",\"Y\",\"Z\"]\n",
    "f = open(str(sys.argv[2]),\"w\",newline = '')\n",
    "writer = csv.writer(f)\n",
    "writer.writerow(meta_data)\n",
    "print(sys.argv)\n",
    "start_time = int(time.time())\n",
    "run_time = int(sys.argv[1])\n",
    "itime = start_time\n",
    "\n",
    "while itime < (start_time + run_time):\n",
    "    print(\"%f %f %f\"%accelerometer.acceleration)\n",
    "    itime = int(time.time())\n",
    "    try:\n",
    "        accdata = accel.read()\n",
    "    except RuntimeError:\n",
    "        print(\"Unable to read from sensor, retrying...\")\n",
    "        continue\n",
    "    data = [accdata[0],accdata[1],accdata[2]]\n",
    "    writer.writerow(data)\n",
    "f.close() \n",
    "    time.sleep(1)"
   ]
  }
 ],
 "metadata": {
  "kernelspec": {
   "display_name": "Python 3",
   "language": "python",
   "name": "python3"
  },
  "language_info": {
   "codemirror_mode": {
    "name": "ipython",
    "version": 3
   },
   "file_extension": ".py",
   "mimetype": "text/x-python",
   "name": "python",
   "nbconvert_exporter": "python",
   "pygments_lexer": "ipython3",
   "version": "3.8.8"
  }
 },
 "nbformat": 4,
 "nbformat_minor": 5
}
