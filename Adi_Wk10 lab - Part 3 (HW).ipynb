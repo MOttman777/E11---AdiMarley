{
 "cells": [
  {
   "cell_type": "markdown",
   "id": "modular-mason",
   "metadata": {},
   "source": [
    "# Section 1\n",
    "<br>\n",
    "-Reading the collected data files, 14 total .csv files"
   ]
  },
  {
   "cell_type": "code",
   "execution_count": 2,
   "id": "forced-yukon",
   "metadata": {},
   "outputs": [],
   "source": [
    "import matplotlib.pyplot as plt\n",
    "import pandas as pd\n",
    "import numpy as np\n",
    "from numpy import random\n",
    "import math"
   ]
  },
  {
   "cell_type": "code",
   "execution_count": 3,
   "id": "cross-florence",
   "metadata": {},
   "outputs": [],
   "source": [
    "#data for 1st source\n",
    "i_non = pd.read_csv(r'/Users/adimittal/Documents/GitHub/E11---AdiMarley/Wk10 Data/1-NoPlate.csv')\n",
    "i_1al = pd.read_csv(r'/Users/adimittal/Documents/GitHub/E11---AdiMarley/Wk10 Data/1-1Al.csv')\n",
    "i_2al = pd.read_csv(r'/Users/adimittal/Documents/GitHub/E11---AdiMarley/Wk10 Data/1-2Al.csv')\n",
    "i_3al = pd.read_csv(r'/Users/adimittal/Documents/GitHub/E11---AdiMarley/Wk10 Data/1-3Al.csv')\n",
    "i_1w = pd.read_csv(r'/Users/adimittal/Documents/GitHub/E11---AdiMarley/Wk10 Data/1-1W.csv')\n",
    "i_2w = pd.read_csv(r'/Users/adimittal/Documents/GitHub/E11---AdiMarley/Wk10 Data/1-2W.csv')\n",
    "i_3w = pd.read_csv(r'/Users/adimittal/Documents/GitHub/E11---AdiMarley/Wk10 Data/1-3W.csv')\n",
    "\n",
    "#data for 2nd source\n",
    "ii_non = pd.read_csv(r'/Users/adimittal/Documents/GitHub/E11---AdiMarley/Wk10 Data/2-NoPlate.csv')\n",
    "ii_1al = pd.read_csv(r'/Users/adimittal/Documents/GitHub/E11---AdiMarley/Wk10 Data/2-1Al.csv')\n",
    "ii_2al = pd.read_csv(r'/Users/adimittal/Documents/GitHub/E11---AdiMarley/Wk10 Data/2-2Al.csv')\n",
    "ii_3al = pd.read_csv(r'/Users/adimittal/Documents/GitHub/E11---AdiMarley/Wk10 Data/2-3Al.csv')\n",
    "ii_1w = pd.read_csv(r'/Users/adimittal/Documents/GitHub/E11---AdiMarley/Wk10 Data/2-1W.csv')\n",
    "ii_2w = pd.read_csv(r'/Users/adimittal/Documents/GitHub/E11---AdiMarley/Wk10 Data/2-2W.csv')\n",
    "ii_3w = pd.read_csv(r'/Users/adimittal/Documents/GitHub/E11---AdiMarley/Wk10 Data/2-3W.csv')\n",
    "\n",
    "t = 'Time'\n",
    "c = 'Count'\n",
    "\n",
    "#creating arrays for count data from each source\n",
    "s1 = [i_non[c], i_1al[c], i_2al[c], i_3al[c], i_1w[c], i_2w[c], i_3w[c]]\n",
    "s2 = [ii_non[c], ii_1al[c], ii_2al[c], ii_3al[c], ii_1w[c], ii_2w[c], ii_3w[c]]"
   ]
  },
  {
   "cell_type": "markdown",
   "id": "swiss-recycling",
   "metadata": {},
   "source": [
    "# Section 2\n",
    "<br>\n",
    "-Plotting histograms for all of the data from the first source (7 total plots)"
   ]
  },
  {
   "cell_type": "code",
   "execution_count": 4,
   "id": "grand-franklin",
   "metadata": {},
   "outputs": [
    {
     "data": {
      "text/html": [
       "<div>\n",
       "<style scoped>\n",
       "    .dataframe tbody tr th:only-of-type {\n",
       "        vertical-align: middle;\n",
       "    }\n",
       "\n",
       "    .dataframe tbody tr th {\n",
       "        vertical-align: top;\n",
       "    }\n",
       "\n",
       "    .dataframe thead th {\n",
       "        text-align: right;\n",
       "    }\n",
       "</style>\n",
       "<table border=\"1\" class=\"dataframe\">\n",
       "  <thead>\n",
       "    <tr style=\"text-align: right;\">\n",
       "      <th></th>\n",
       "      <th>Shielding:</th>\n",
       "      <th>Mean</th>\n",
       "      <th>Standard dev</th>\n",
       "    </tr>\n",
       "  </thead>\n",
       "  <tbody>\n",
       "    <tr>\n",
       "      <th>0</th>\n",
       "      <td>None</td>\n",
       "      <td>5.230769</td>\n",
       "      <td>3.983695</td>\n",
       "    </tr>\n",
       "    <tr>\n",
       "      <th>1</th>\n",
       "      <td>1 Al</td>\n",
       "      <td>9.153846</td>\n",
       "      <td>5.558724</td>\n",
       "    </tr>\n",
       "    <tr>\n",
       "      <th>2</th>\n",
       "      <td>2 Al</td>\n",
       "      <td>9.538462</td>\n",
       "      <td>8.445439</td>\n",
       "    </tr>\n",
       "    <tr>\n",
       "      <th>3</th>\n",
       "      <td>3 Al</td>\n",
       "      <td>5.076923</td>\n",
       "      <td>3.931364</td>\n",
       "    </tr>\n",
       "    <tr>\n",
       "      <th>4</th>\n",
       "      <td>1 W</td>\n",
       "      <td>46.076923</td>\n",
       "      <td>62.156702</td>\n",
       "    </tr>\n",
       "    <tr>\n",
       "      <th>5</th>\n",
       "      <td>2 W</td>\n",
       "      <td>9.076923</td>\n",
       "      <td>4.375835</td>\n",
       "    </tr>\n",
       "    <tr>\n",
       "      <th>6</th>\n",
       "      <td>3 W</td>\n",
       "      <td>8.461538</td>\n",
       "      <td>7.055989</td>\n",
       "    </tr>\n",
       "  </tbody>\n",
       "</table>\n",
       "</div>"
      ],
      "text/plain": [
       "  Shielding:       Mean  Standard dev\n",
       "0       None   5.230769      3.983695\n",
       "1       1 Al   9.153846      5.558724\n",
       "2       2 Al   9.538462      8.445439\n",
       "3       3 Al   5.076923      3.931364\n",
       "4        1 W  46.076923     62.156702\n",
       "5        2 W   9.076923      4.375835\n",
       "6        3 W   8.461538      7.055989"
      ]
     },
     "metadata": {},
     "output_type": "display_data"
    },
    {
     "data": {
      "image/png": "[encoded data removed]",
      "text/plain": [
       "<Figure size 432x288 with 1 Axes>"
      ]
     },
     "metadata": {
      "needs_background": "light"
     },
     "output_type": "display_data"
    }
   ],
   "source": [
    "#PLOT\n",
    "plt.title('1st Source Data')\n",
    "plt.hist(s1[0], bins=13, label='No shield', color=\"blue\", range=[0, 40])\n",
    "plt.hist(s1[1], bins=12, label='1 Al', color=\"orange\", alpha=0.8, range=[0, 40])\n",
    "plt.hist(s1[4], bins=7, label='1 W', color=\"green\", alpha=0.8, range=[0, 40])\n",
    "plt.hist(s1[2], bins=11, label='2 Al', color=\"orange\", alpha=0.6, range=[0, 40])\n",
    "plt.hist(s1[5], bins=9, label='2 W', color=\"green\", alpha=0.6, range=[0, 40])\n",
    "plt.hist(s1[3], bins=15, label='3 Al', color=\"orange\", alpha=0.4, range=[0, 40])\n",
    "plt.hist(s1[6], bins=7, label='3 W', color=\"green\", alpha=0.4, range=[0, 40])\n",
    "plt.legend()\n",
    "plt.show\n",
    "\n",
    "#Counting Statistics\n",
    "imean = [np.mean(s1[0]), np.mean(s1[1]), np.mean(s1[2]), np.mean(s1[3]), np.mean(s1[4]), np.mean(s1[5]), np.mean(s1[6])]\n",
    "istd = [np.std(s1[0]), np.std(s1[1]), np.std(s1[2]), np.std(s1[3]), np.std(s1[4]), np.std(s1[5]), np.std(s1[6])]\n",
    "istats = {'Shielding:':['None', '1 Al', '2 Al', '3 Al', '1 W', '2 W', '3 W'],\n",
    "        'Mean':[imean[0],imean[1],imean[2],imean[3],imean[4],imean[5],imean[6]],\n",
    "        'Standard dev':[istd[0],istd[1],istd[2],istd[3],istd[4],istd[5],istd[6]]}\n",
    "stats = pd.DataFrame(istats)\n",
    "display(stats)"
   ]
  },
  {
   "cell_type": "code",
   "execution_count": 57,
   "id": "lyric-enhancement",
   "metadata": {},
   "outputs": [],
   "source": [
    "#source1 \n",
    "total_cts_i_non = sum(i_non['Count'])\n",
    "unc_cts_i_non = total_cts_i_non**0.5\n",
    "total_cts_i_1al = sum(i_1al['Count'])\n",
    "unc_cts_i_1al = total_cts_i_1al**0.5\n",
    "total_cts_i_2al = sum(i_2al['Count'])\n",
    "unc_cts_i_2al = total_cts_i_2al**0.5\n",
    "total_cts_i_3al = sum(i_3al['Count'])\n",
    "unc_cts_i_3al = total_cts_i_3al**0.5\n",
    "total_cts_i_1w = sum(i_1w['Count'])\n",
    "unc_cts_i_1w = total_cts_i_1w**0.5\n",
    "total_cts_i_2w = sum(i_2w['Count'])\n",
    "unc_cts_i_2w = total_cts_i_2w**0.5\n",
    "total_cts_i_3w = sum(i_3w['Count'])\n",
    "unc_cts_i_3w = total_cts_i_3w**0.5\n",
    "\n",
    "#source2\n",
    "total_cts_ii_non = sum(ii_non['Count'])\n",
    "unc_cts_ii_non = total_cts_ii_non**0.5\n",
    "total_cts_ii_1al = sum(ii_1al['Count'])\n",
    "unc_cts_ii_1al = total_cts_ii_1al**0.5\n",
    "total_cts_ii_2al = sum(ii_2al['Count'])\n",
    "unc_cts_ii_2al = total_cts_ii_2al**0.5\n",
    "total_cts_ii_3al = sum(ii_3al['Count'])\n",
    "unc_cts_ii_3al = total_cts_ii_3al**0.5\n",
    "total_cts_ii_1w = sum(ii_1w['Count'])\n",
    "unc_cts_ii_1w = total_cts_ii_1w**0.5\n",
    "total_cts_ii_2w = sum(ii_2w['Count'])\n",
    "unc_cts_ii_2w = total_cts_ii_2w**0.5\n",
    "total_cts_ii_3w = sum(ii_3w['Count'])\n",
    "unc_cts_ii_3w = total_cts_ii_3w**0.5\n",
    "\n",
    "thickness = np.array([1,2,3])\n",
    "counts_i_al = np.array([total_cts_i_1al,total_cts_i_2al,total_cts_i_3al])\n",
    "counts_ii_al = np.array([total_cts_ii_1al,total_cts_ii_2al,total_cts_ii_3al])\n",
    "counts_i_w = np.array([total_cts_i_1w,total_cts_i_2w,total_cts_i_3w])\n",
    "counts_ii_w = np.array([total_cts_ii_1w,total_cts_ii_2w,total_cts_ii_3w])\n",
    "\n",
    "unc_i_al = np.array([unc_cts_i_1al,unc_cts_i_2al,unc_cts_i_3al])\n",
    "unc_ii_al = np.array([unc_cts_ii_1al,unc_cts_ii_2al,unc_cts_ii_3al])\n",
    "unc_i_w = np.array([unc_cts_i_1w,unc_cts_i_2w,unc_cts_i_3w])\n",
    "unc_ii_w = np.array([unc_cts_ii_1w,unc_cts_ii_2w,unc_cts_ii_3w])"
   ]
  },
  {
   "cell_type": "code",
   "execution_count": 70,
   "id": "1cef17e5",
   "metadata": {},
   "outputs": [
    {
     "data": {
      "text/plain": [
       "array([45.35416188, 11.5758369 , 10.77032961])"
      ]
     },
     "execution_count": 70,
     "metadata": {},
     "output_type": "execute_result"
    }
   ],
   "source": [
    "unc_ii_w"
   ]
  },
  {
   "cell_type": "code",
   "execution_count": 71,
   "id": "e2b7d8ac",
   "metadata": {},
   "outputs": [
    {
     "data": {
      "image/png": "[encoded data removed]",
      "text/plain": [
       "<Figure size 720x576 with 1 Axes>"
      ]
     },
     "metadata": {
      "needs_background": "light"
     },
     "output_type": "display_data"
    }
   ],
   "source": [
    "plt.figure(figsize=(10, 8))\n",
    "plt.errorbar(thickness, counts_i_al, yerr=unc_i_al, fmt='o', label='Source1 Al')\n",
    "plt.errorbar(thickness, counts_ii_al, yerr=unc_ii_al, fmt='o', label='Source2 Al')\n",
    "plt.errorbar(thickness, counts_i_w , yerr=unc_i_w, fmt='o', label='Source1 W')\n",
    "plt.errorbar(thickness, counts_ii_w, yerr=unc_ii_w, fmt='o', label='Source2 W')\n",
    "plt.xscale('log')\n",
    "plt.yscale('linear')\n",
    "plt.xlabel('Absorber Thickness (cm)')\n",
    "plt.ylabel('Total Counts Measured')\n",
    "plt.title('Total Counts Measured vs. Absorber Thickness')\n",
    "plt.legend()\n",
    "plt.grid(True)\n",
    "plt.show()"
   ]
  },
  {
   "cell_type": "code",
   "execution_count": 79,
   "id": "01385d9f",
   "metadata": {},
   "outputs": [
    {
     "name": "stdout",
     "output_type": "stream",
     "text": [
      "29.0\n",
      "6.5\n",
      "106.5\n",
      "9.0\n"
     ]
    }
   ],
   "source": [
    "abs_coeff_i_Al = (counts_i_al[1]-counts_i_al[-1])/2 \n",
    "print(abs_coeff_i_Al)\n",
    "\n",
    "abs_coeff_i_W = ((counts_i_w[1]-counts_i_w[-1])/2 + (counts_ii_w[1]-counts_ii_w[-1])/2)/2\n",
    "print(abs_coeff_i_W)  \n",
    "\n",
    "abs_coeff_ii_Al=(counts_ii_al[1]-counts_ii_al[-1])/2\n",
    "print(abs_coeff_ii_Al)\n",
    "\n",
    "abs_coeff_ii_W = (counts_ii_w[1]-counts_ii_w[-1])/2\n",
    "print(abs_coeff_ii_W)"
   ]
  },
  {
   "cell_type": "markdown",
   "id": "7269efe0",
   "metadata": {},
   "source": [
    "they are different as attenuation coefficients depends on two factors, material which remained constant and energy of the radiation which depends on the source as such they could be different as reflected by the results."
   ]
  }
 ],
 "metadata": {
  "kernelspec": {
   "display_name": "Python 3",
   "language": "python",
   "name": "python3"
  },
  "language_info": {
   "codemirror_mode": {
    "name": "ipython",
    "version": 3
   },
   "file_extension": ".py",
   "mimetype": "text/x-python",
   "name": "python",
   "nbconvert_exporter": "python",
   "pygments_lexer": "ipython3",
   "version": "3.8.8"
  }
 },
 "nbformat": 4,
 "nbformat_minor": 5
}
