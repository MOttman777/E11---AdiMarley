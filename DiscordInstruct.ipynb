{
 "cells": [
  {
   "cell_type": "code",
   "execution_count": null,
   "id": "76582ef3",
   "metadata": {},
   "outputs": [],
   "source": [
    "$ sudo apt-get install -y rabbitmq-server\n",
    "$ sudo -H pip install pika\n",
    "$ sudo -H pip install matplotlib\n",
    "$ sudo -H pip install folium\n",
    "$ sudo -H pip install adafruit-circuitpython-gps\n",
    "$ git clone https://github.com/engineering-11/dosenet-raspberrypi-1.git\n",
    "$ cd dosenet-raspberrypi-1\n",
    "$ git checkout -b pocket_gui origin/pocket_gui\n",
    "$ cp gpsGUI.desktop ~/Desktop/\n",
    "$ sudo passwd -d root\n",
    "$ sudo passwd -l root\n"
   ]
  }
 ],
 "metadata": {
  "kernelspec": {
   "display_name": "Python 3",
   "language": "python",
   "name": "python3"
  },
  "language_info": {
   "codemirror_mode": {
    "name": "ipython",
    "version": 3
   },
   "file_extension": ".py",
   "mimetype": "text/x-python",
   "name": "python",
   "nbconvert_exporter": "python",
   "pygments_lexer": "ipython3",
   "version": "3.8.8"
  }
 },
 "nbformat": 4,
 "nbformat_minor": 5
}
