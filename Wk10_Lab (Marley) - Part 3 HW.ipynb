{
 "cells": [
  {
   "cell_type": "markdown",
   "id": "modular-mason",
   "metadata": {},
   "source": [
    "# Section 1\n",
    "<br>\n",
    "-Reading the collected data files, 14 total .csv files"
   ]
  },
  {
   "cell_type": "code",
   "execution_count": 1,
   "id": "forced-yukon",
   "metadata": {},
   "outputs": [],
   "source": [
    "import matplotlib.pyplot as plt\n",
    "import pandas as pd\n",
    "import numpy as np\n",
    "from numpy import random\n",
    "import math"
   ]
  },
  {
   "cell_type": "code",
   "execution_count": 2,
   "id": "cross-florence",
   "metadata": {},
   "outputs": [],
   "source": [
    "#data for 1st source\n",
    "i_non = pd.read_csv(r'C:\\Users\\12095\\Documents\\GitHub\\E11---AdiMarley\\Wk10 Data\\1-NoPlate.csv')\n",
    "i_1al = pd.read_csv(r'C:\\Users\\12095\\Documents\\GitHub\\E11---AdiMarley\\Wk10 Data\\1-1Al.csv')\n",
    "i_2al = pd.read_csv(r'C:\\Users\\12095\\Documents\\GitHub\\E11---AdiMarley\\Wk10 Data\\1-2Al.csv')\n",
    "i_3al = pd.read_csv(r'C:\\Users\\12095\\Documents\\GitHub\\E11---AdiMarley\\Wk10 Data\\1-3Al.csv')\n",
    "i_1w = pd.read_csv(r'C:\\Users\\12095\\Documents\\GitHub\\E11---AdiMarley\\Wk10 Data\\1-1W.csv')\n",
    "i_2w = pd.read_csv(r'C:\\Users\\12095\\Documents\\GitHub\\E11---AdiMarley\\Wk10 Data\\1-2W.csv')\n",
    "i_3w = pd.read_csv(r'C:\\Users\\12095\\Documents\\GitHub\\E11---AdiMarley\\Wk10 Data\\1-3W.csv')\n",
    "\n",
    "#data for 2nd source\n",
    "ii_non = pd.read_csv(r'C:\\Users\\12095\\Documents\\GitHub\\E11---AdiMarley\\Wk10 Data\\2-NoPlate.csv')\n",
    "ii_1al = pd.read_csv(r'C:\\Users\\12095\\Documents\\GitHub\\E11---AdiMarley\\Wk10 Data\\2-1Al.csv')\n",
    "ii_2al = pd.read_csv(r'C:\\Users\\12095\\Documents\\GitHub\\E11---AdiMarley\\Wk10 Data\\2-2Al.csv')\n",
    "ii_3al = pd.read_csv(r'C:\\Users\\12095\\Documents\\GitHub\\E11---AdiMarley\\Wk10 Data\\2-3Al.csv')\n",
    "ii_1w = pd.read_csv(r'C:\\Users\\12095\\Documents\\GitHub\\E11---AdiMarley\\Wk10 Data\\2-1W.csv')\n",
    "ii_2w = pd.read_csv(r'C:\\Users\\12095\\Documents\\GitHub\\E11---AdiMarley\\Wk10 Data\\2-2W.csv')\n",
    "ii_3w = pd.read_csv(r'C:\\Users\\12095\\Documents\\GitHub\\E11---AdiMarley\\Wk10 Data\\2-3W.csv')\n",
    "\n",
    "t = 'Time'\n",
    "c = 'Count'\n",
    "\n",
    "#creating arrays for count data from each source\n",
    "s1 = [i_non[c], i_1al[c], i_2al[c], i_3al[c], i_1w[c], i_2w[c], i_3w[c]]\n",
    "s2 = [ii_non[c], ii_1al[c], ii_2al[c], ii_3al[c], ii_1w[c], ii_2w[c], ii_3w[c]]"
   ]
  },
  {
   "cell_type": "markdown",
   "id": "broke-young",
   "metadata": {},
   "source": [
    "# Section 2\n",
    "<br>\n",
    "-Plotting histograms for all of the data from the first source (7 total plots)"
   ]
  },
  {
   "cell_type": "code",
   "execution_count": 3,
   "id": "welcome-stanley",
   "metadata": {},
   "outputs": [
    {
     "data": {
      "text/html": [
       "<div>\n",
       "<style scoped>\n",
       "    .dataframe tbody tr th:only-of-type {\n",
       "        vertical-align: middle;\n",
       "    }\n",
       "\n",
       "    .dataframe tbody tr th {\n",
       "        vertical-align: top;\n",
       "    }\n",
       "\n",
       "    .dataframe thead th {\n",
       "        text-align: right;\n",
       "    }\n",
       "</style>\n",
       "<table border=\"1\" class=\"dataframe\">\n",
       "  <thead>\n",
       "    <tr style=\"text-align: right;\">\n",
       "      <th></th>\n",
       "      <th>Shielding:</th>\n",
       "      <th>Mean</th>\n",
       "      <th>Standard dev</th>\n",
       "    </tr>\n",
       "  </thead>\n",
       "  <tbody>\n",
       "    <tr>\n",
       "      <th>0</th>\n",
       "      <td>None</td>\n",
       "      <td>5.230769</td>\n",
       "      <td>3.983695</td>\n",
       "    </tr>\n",
       "    <tr>\n",
       "      <th>1</th>\n",
       "      <td>1 Al</td>\n",
       "      <td>9.153846</td>\n",
       "      <td>5.558724</td>\n",
       "    </tr>\n",
       "    <tr>\n",
       "      <th>2</th>\n",
       "      <td>2 Al</td>\n",
       "      <td>9.538462</td>\n",
       "      <td>8.445439</td>\n",
       "    </tr>\n",
       "    <tr>\n",
       "      <th>3</th>\n",
       "      <td>3 Al</td>\n",
       "      <td>5.076923</td>\n",
       "      <td>3.931364</td>\n",
       "    </tr>\n",
       "    <tr>\n",
       "      <th>4</th>\n",
       "      <td>1 W</td>\n",
       "      <td>46.076923</td>\n",
       "      <td>62.156702</td>\n",
       "    </tr>\n",
       "    <tr>\n",
       "      <th>5</th>\n",
       "      <td>2 W</td>\n",
       "      <td>9.076923</td>\n",
       "      <td>4.375835</td>\n",
       "    </tr>\n",
       "    <tr>\n",
       "      <th>6</th>\n",
       "      <td>3 W</td>\n",
       "      <td>8.461538</td>\n",
       "      <td>7.055989</td>\n",
       "    </tr>\n",
       "  </tbody>\n",
       "</table>\n",
       "</div>"
      ],
      "text/plain": [
       "  Shielding:       Mean  Standard dev\n",
       "0       None   5.230769      3.983695\n",
       "1       1 Al   9.153846      5.558724\n",
       "2       2 Al   9.538462      8.445439\n",
       "3       3 Al   5.076923      3.931364\n",
       "4        1 W  46.076923     62.156702\n",
       "5        2 W   9.076923      4.375835\n",
       "6        3 W   8.461538      7.055989"
      ]
     },
     "metadata": {},
     "output_type": "display_data"
    },
    {
     "data": {
      "image/png": "[encoded data removed]",
      "text/plain": [
       "<Figure size 432x288 with 1 Axes>"
      ]
     },
     "metadata": {
      "needs_background": "light"
     },
     "output_type": "display_data"
    }
   ],
   "source": [
    "#PLOT\n",
    "plt.title('1st Source Data')\n",
    "plt.hist(s1[0], bins=13, label='No shield', color=\"blue\", range=[0, 40])\n",
    "plt.hist(s1[1], bins=12, label='1 Al', color=\"orange\", alpha=0.8, range=[0, 40])\n",
    "plt.hist(s1[4], bins=7, label='1 W', color=\"green\", alpha=0.8, range=[0, 40])\n",
    "plt.hist(s1[2], bins=11, label='2 Al', color=\"orange\", alpha=0.6, range=[0, 40])\n",
    "plt.hist(s1[5], bins=9, label='2 W', color=\"green\", alpha=0.6, range=[0, 40])\n",
    "plt.hist(s1[3], bins=15, label='3 Al', color=\"orange\", alpha=0.4, range=[0, 40])\n",
    "plt.hist(s1[6], bins=7, label='3 W', color=\"green\", alpha=0.4, range=[0, 40])\n",
    "plt.legend()\n",
    "plt.show\n",
    "\n",
    "#Counting Statistics\n",
    "imean = [np.mean(s1[0]), np.mean(s1[1]), np.mean(s1[2]), np.mean(s1[3]), np.mean(s1[4]), np.mean(s1[5]), np.mean(s1[6])]\n",
    "istd = [np.std(s1[0]), np.std(s1[1]), np.std(s1[2]), np.std(s1[3]), np.std(s1[4]), np.std(s1[5]), np.std(s1[6])]\n",
    "istats = {'Shielding:':['None', '1 Al', '2 Al', '3 Al', '1 W', '2 W', '3 W'],\n",
    "        'Mean':[imean[0],imean[1],imean[2],imean[3],imean[4],imean[5],imean[6]],\n",
    "        'Standard dev':[istd[0],istd[1],istd[2],istd[3],istd[4],istd[5],istd[6]]}\n",
    "stats = pd.DataFrame(istats)\n",
    "display(stats)\n",
    "\n",
    "imean = np.array(imean)\n",
    "istd = np.array(istd)\n",
    "rat = istd/imean\n",
    "avgstd = sum(rat)/len(rat)\n"
   ]
  },
  {
   "cell_type": "markdown",
   "id": "alike-cambridge",
   "metadata": {},
   "source": [
    "a) The mean and standard deviation of our data are not ideal, with the average uncertainty being 81% of the data point it correspond to, making it far too large for any real precision. However, we do still observe a decline in counts as shielding is added so the detector is still practically functional.\n",
    "\n",
    "b) We see the expected decline of counts as more shielding is added, showwing in that the shielding is absorbing radition.\n",
    "\n",
    "- - -"
   ]
  },
  {
   "cell_type": "markdown",
   "id": "christian-craft",
   "metadata": {},
   "source": [
    "# Section 3"
   ]
  },
  {
   "cell_type": "code",
   "execution_count": 4,
   "id": "bulgarian-democracy",
   "metadata": {},
   "outputs": [
    {
     "data": {
      "text/plain": [
       "<function matplotlib.pyplot.show(close=None, block=None)>"
      ]
     },
     "execution_count": 4,
     "metadata": {},
     "output_type": "execute_result"
    },
    {
     "data": {
      "image/png": "[encoded data removed]",
      "text/plain": [
       "<Figure size 504x504 with 1 Axes>"
      ]
     },
     "metadata": {
      "needs_background": "light"
     },
     "output_type": "display_data"
    }
   ],
   "source": [
    "xdata = [0,1,2,3]  # material thickness in cm\n",
    "\n",
    "y_al = [sum(s1[0]), sum(s1[1]), sum(s1[2]), sum(s1[3])] \n",
    "y_w = [sum(s1[0]), sum(s1[4]), sum(s1[5]), sum(s1[6])]\n",
    "\n",
    "u_al = [sum(s1[0])**0.5, sum(s1[1])**0.5, sum(s1[2])**0.5, sum(s1[3])**0.5]\n",
    "u_w = [sum(s1[0])**0.5, sum(s1[4])**0.5, sum(s1[5])**0.5, sum(s1[6])**0.5]\n",
    "\n",
    "plt.figure(figsize=(7, 7))\n",
    "plt.plot(xdata, y_al, color=\"orange\")\n",
    "plt.plot(xdata, y_w, color=\"green\")\n",
    "plt.errorbar(xdata, y_al, yerr=u_al, fmt='*', label='Aluminum', color=\"orange\", ecolor=\"black\")\n",
    "plt.errorbar(xdata, y_w, yerr=u_w, fmt='*', label='Tungsten', color=\"green\", ecolor=\"black\")\n",
    "plt.xscale('log')\n",
    "plt.yscale('linear')\n",
    "plt.xlabel('Absorber Thickness [cm]')\n",
    "plt.ylabel('Total Counts (t = 2min)')\n",
    "plt.title('1st Source - Total Counts vs. Absorber Thickness')\n",
    "plt.legend()\n",
    "plt.show\n"
   ]
  },
  {
   "cell_type": "markdown",
   "id": "consolidated-apache",
   "metadata": {},
   "source": [
    "<br>\n",
    "\n",
    "# Section 4\n",
    "\n",
    "While there aren't many data points, both plots do show the decreasing trend we expect"
   ]
  },
  {
   "cell_type": "code",
   "execution_count": 5,
   "id": "occasional-imperial",
   "metadata": {},
   "outputs": [
    {
     "name": "stdout",
     "output_type": "stream",
     "text": [
      "the absorption coefficient for aluminum is 17.666666666666668 [cm^-1]\n",
      "the absorption coefficient for tungsten is 163.0 [cm^-1]\n"
     ]
    }
   ],
   "source": [
    "acoeff_al = abs((sum(s1[1])-sum(s1[3]))/3)\n",
    "acoeff_w = abs((sum(s1[4])-sum(s1[6]))/3)\n",
    "\n",
    "print('the absorption coefficient for aluminum is', acoeff_al, '[cm^-1]')\n",
    "print('the absorption coefficient for tungsten is', acoeff_w, '[cm^-1]')"
   ]
  },
  {
   "cell_type": "markdown",
   "id": "olive-trainer",
   "metadata": {},
   "source": [
    "- - -\n",
    "<br>\n",
    "\n",
    "# Section 5\n"
   ]
  },
  {
   "cell_type": "code",
   "execution_count": 6,
   "id": "controlled-neighborhood",
   "metadata": {},
   "outputs": [
    {
     "data": {
      "text/html": [
       "<div>\n",
       "<style scoped>\n",
       "    .dataframe tbody tr th:only-of-type {\n",
       "        vertical-align: middle;\n",
       "    }\n",
       "\n",
       "    .dataframe tbody tr th {\n",
       "        vertical-align: top;\n",
       "    }\n",
       "\n",
       "    .dataframe thead th {\n",
       "        text-align: right;\n",
       "    }\n",
       "</style>\n",
       "<table border=\"1\" class=\"dataframe\">\n",
       "  <thead>\n",
       "    <tr style=\"text-align: right;\">\n",
       "      <th></th>\n",
       "      <th>Shielding:</th>\n",
       "      <th>Mean</th>\n",
       "      <th>Standard dev</th>\n",
       "    </tr>\n",
       "  </thead>\n",
       "  <tbody>\n",
       "    <tr>\n",
       "      <th>0</th>\n",
       "      <td>None</td>\n",
       "      <td>16.461538</td>\n",
       "      <td>8.508958</td>\n",
       "    </tr>\n",
       "    <tr>\n",
       "      <th>1</th>\n",
       "      <td>1 Al</td>\n",
       "      <td>63.230769</td>\n",
       "      <td>120.756687</td>\n",
       "    </tr>\n",
       "    <tr>\n",
       "      <th>2</th>\n",
       "      <td>2 Al</td>\n",
       "      <td>26.769231</td>\n",
       "      <td>39.270568</td>\n",
       "    </tr>\n",
       "    <tr>\n",
       "      <th>3</th>\n",
       "      <td>3 Al</td>\n",
       "      <td>10.384615</td>\n",
       "      <td>6.604642</td>\n",
       "    </tr>\n",
       "    <tr>\n",
       "      <th>4</th>\n",
       "      <td>1 W</td>\n",
       "      <td>158.230769</td>\n",
       "      <td>389.990366</td>\n",
       "    </tr>\n",
       "    <tr>\n",
       "      <th>5</th>\n",
       "      <td>2 W</td>\n",
       "      <td>10.307692</td>\n",
       "      <td>5.311593</td>\n",
       "    </tr>\n",
       "    <tr>\n",
       "      <th>6</th>\n",
       "      <td>3 W</td>\n",
       "      <td>8.923077</td>\n",
       "      <td>6.293605</td>\n",
       "    </tr>\n",
       "  </tbody>\n",
       "</table>\n",
       "</div>"
      ],
      "text/plain": [
       "  Shielding:        Mean  Standard dev\n",
       "0       None   16.461538      8.508958\n",
       "1       1 Al   63.230769    120.756687\n",
       "2       2 Al   26.769231     39.270568\n",
       "3       3 Al   10.384615      6.604642\n",
       "4        1 W  158.230769    389.990366\n",
       "5        2 W   10.307692      5.311593\n",
       "6        3 W    8.923077      6.293605"
      ]
     },
     "metadata": {},
     "output_type": "display_data"
    },
    {
     "name": "stdout",
     "output_type": "stream",
     "text": [
      "Via data from the second source:\n",
      "the absorption coefficient for aluminum is 229.0 [cm^-1]\n",
      "the absorption coefficient for tungsten is 647.0 [cm^-1]\n"
     ]
    },
    {
     "data": {
      "image/png": "[encoded data removed]",
      "text/plain": [
       "<Figure size 432x288 with 1 Axes>"
      ]
     },
     "metadata": {
      "needs_background": "light"
     },
     "output_type": "display_data"
    },
    {
     "data": {
      "image/png": "[encoded data removed]",
      "text/plain": [
       "<Figure size 504x504 with 1 Axes>"
      ]
     },
     "metadata": {
      "needs_background": "light"
     },
     "output_type": "display_data"
    }
   ],
   "source": [
    "## Analysis for source 2\n",
    "\n",
    "#PLOT\n",
    "plt.title('2nd Source Data')\n",
    "plt.hist(s2[0], bins=13, label='No shield', color=\"blue\", range=[0, 40])\n",
    "plt.hist(s2[1], bins=12, label='1 Al', color=\"orange\", alpha=0.8, range=[0, 40])\n",
    "plt.hist(s2[4], bins=7, label='1 W', color=\"green\", alpha=0.8, range=[0, 40])\n",
    "plt.hist(s2[2], bins=11, label='2 Al', color=\"orange\", alpha=0.6, range=[0, 40])\n",
    "plt.hist(s2[5], bins=9, label='2 W', color=\"green\", alpha=0.6, range=[0, 40])\n",
    "plt.hist(s2[3], bins=15, label='3 Al', color=\"orange\", alpha=0.4, range=[0, 40])\n",
    "plt.hist(s2[6], bins=7, label='3 W', color=\"green\", alpha=0.4, range=[0, 40])\n",
    "plt.legend()\n",
    "plt.show\n",
    "\n",
    "#Counting Statistics\n",
    "imean = [np.mean(s2[0]), np.mean(s2[1]), np.mean(s2[2]), np.mean(s2[3]), np.mean(s2[4]), np.mean(s2[5]), np.mean(s2[6])]\n",
    "istd = [np.std(s2[0]), np.std(s2[1]), np.std(s2[2]), np.std(s2[3]), np.std(s2[4]), np.std(s2[5]), np.std(s2[6])]\n",
    "istats = {'Shielding:':['None', '1 Al', '2 Al', '3 Al', '1 W', '2 W', '3 W'],\n",
    "        'Mean':[imean[0],imean[1],imean[2],imean[3],imean[4],imean[5],imean[6]],\n",
    "        'Standard dev':[istd[0],istd[1],istd[2],istd[3],istd[4],istd[5],istd[6]]}\n",
    "stats = pd.DataFrame(istats)\n",
    "display(stats)\n",
    "\n",
    "imean = np.array(imean)\n",
    "istd = np.array(istd)\n",
    "rat = istd/imean\n",
    "avgstd = sum(rat)/len(rat)\n",
    "\n",
    "\n",
    "\n",
    "#TOTAL COUNTS PLOT\n",
    "\n",
    "xdata = [0,1,2,3]  # material thickness in cm\n",
    "\n",
    "y_al = [sum(s2[0]), sum(s2[1]), sum(s2[2]), sum(s2[3])] \n",
    "y_w = [sum(s2[0]), sum(s2[4]), sum(s2[5]), sum(s2[6])]\n",
    "\n",
    "u_al = [sum(s2[0])**0.5, sum(s2[1])**0.5, sum(s2[2])**0.5, sum(s2[3])**0.5]\n",
    "u_w = [sum(s2[0])**0.5, sum(s2[4])**0.5, sum(s2[5])**0.5, sum(s2[6])**0.5]\n",
    "\n",
    "plt.figure(figsize=(7, 7))\n",
    "plt.plot(xdata, y_al, color=\"orange\")\n",
    "plt.plot(xdata, y_w, color=\"green\")\n",
    "plt.errorbar(xdata, y_al, yerr=u_al, fmt='*', label='Aluminum', color=\"orange\", ecolor=\"black\")\n",
    "plt.errorbar(xdata, y_w, yerr=u_w, fmt='*', label='Tungsten', color=\"green\", ecolor=\"black\")\n",
    "plt.xscale('log')\n",
    "plt.yscale('linear')\n",
    "plt.xlabel('Absorber Thickness [cm]')\n",
    "plt.ylabel('Total Counts (t = 2min)')\n",
    "plt.title('2nd Source - Total Counts vs. Absorber Thickness')\n",
    "plt.legend()\n",
    "plt.show\n",
    "\n",
    "\n",
    "#Absorption coefficient\n",
    "acoeff_al = abs((sum(s2[1])-sum(s2[3]))/3)\n",
    "acoeff_w = abs((sum(s2[4])-sum(s2[6]))/3)\n",
    "\n",
    "print('Via data from the second source:')\n",
    "print('the absorption coefficient for aluminum is', acoeff_al, '[cm^-1]')\n",
    "print('the absorption coefficient for tungsten is', acoeff_w, '[cm^-1]')"
   ]
  },
  {
   "cell_type": "markdown",
   "id": "boolean-pricing",
   "metadata": {},
   "source": [
    "The absorption coefficients taken from the second source data are wildly larger than those calculated from the first source data. There could be several specific reasons for this, however the gap seems to be caused by outliers in the data. This error would be less noticable with a larger data set, but with only 3 measurements taken, any outlier would cause this."
   ]
  },
  {
   "cell_type": "code",
   "execution_count": null,
   "id": "sonic-timothy",
   "metadata": {},
   "outputs": [],
   "source": []
  }
 ],
 "metadata": {
  "kernelspec": {
   "display_name": "Python 3",
   "language": "python",
   "name": "python3"
  },
  "language_info": {
   "codemirror_mode": {
    "name": "ipython",
    "version": 3
   },
   "file_extension": ".py",
   "mimetype": "text/x-python",
   "name": "python",
   "nbconvert_exporter": "python",
   "pygments_lexer": "ipython3",
   "version": "3.8.5"
  }
 },
 "nbformat": 4,
 "nbformat_minor": 5
}
